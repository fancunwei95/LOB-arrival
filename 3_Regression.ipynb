{
 "cells": [
  {
   "cell_type": "markdown",
   "metadata": {},
   "source": [
    "# Regression\n",
    "\n",
    "In this notebook, we would try to tacckle the regression problem for the order arrivals in an LOB. However, it would not make sense if we do not consider predictions from classification and thus, we would combine the features and classifications predicted from the Classification notebook together to make our regression model."
   ]
  },
  {
   "cell_type": "code",
   "execution_count": 1,
   "metadata": {},
   "outputs": [],
   "source": [
    "import numpy as np\n",
    "import pandas as pd\n",
    "import matplotlib.pyplot as plt\n",
    "\n",
    "from sklearn.impute import SimpleImputer\n",
    "from sklearn.preprocessing import RobustScaler\n",
    "from sklearn.decomposition import PCA\n",
    "from sklearn.metrics import r2_score\n",
    "\n",
    "from sklearn.model_selection import cross_val_score, KFold, GridSearchCV\n",
    "\n",
    "from sklearn.svm import LinearSVC\n",
    "from sklearn.tree import DecisionTreeClassifier\n",
    "from sklearn.ensemble import RandomForestClassifier, AdaBoostClassifier, GradientBoostingClassifier\n",
    "from sklearn.ensemble import ExtraTreesClassifier\n",
    "from sklearn.naive_bayes import GaussianNB\n",
    "from sklearn.discriminant_analysis import QuadraticDiscriminantAnalysis\n",
    "from sklearn.linear_model import PoissonRegressor\n",
    "from sklearn.neighbors import KNeighborsRegressor\n",
    "\n",
    "from glmnet import ElasticNet\n",
    "from xgboost import XGBClassifier\n",
    "\n",
    "import rpy2.robjects.packages as rpackages; rpackages.importr(\"glmnet\")\n",
    "import rpy2.robjects as robjects\n",
    "from  rpy2.robjects import r as R\n",
    "\n",
    "from warnings import filterwarnings\n",
    "filterwarnings(\"ignore\")\n"
   ]
  },
  {
   "cell_type": "markdown",
   "metadata": {},
   "source": [
    "## Data preparation\n",
    "\n",
    "We first split the data to train and test. The test data is all the data we have for June 1st. Then, we add features that we found in the data visualization. Then we standarize the data. Finally, we add some absolute values of the features since we observed the behaviour of arrivals are different for some features when the features are positive or negative. We also shifted the features by 1 2 and 5 time slots so that the prediction will be made according to the past time points.\n",
    "\n",
    "We standarize our data by robust scalar where the median of the columns are subtracted and the 25% to 75% quantiles are used as the spread. We would also need to impute the NaNs either from the data or from the shift we did for the data. "
   ]
  },
  {
   "cell_type": "code",
   "execution_count": 2,
   "metadata": {},
   "outputs": [],
   "source": [
    "data = pd.read_csv(\"data.csv\")\n",
    "data[\"Time\"] = pd.to_datetime(data[\"Time\"])\n",
    "data.set_index(\"Time\", inplace = True)\n",
    "data = data.sort_index()\n",
    "\n",
    "data[\"Bid Arrival\"] = np.round(data[\"Bid Arrival\"])\n",
    "data[\"Ask Arrival\"] = np.round(data[\"Ask Arrival\"])\n",
    "\n",
    "data[\"Bid Arr Pred\"] = data[\"Bid Arrival\"].shift(-1)\n",
    "data[\"Ask Arr Pred\"] = data[\"Ask Arrival\"].shift(-1)\n",
    "\n",
    "test_data = data[data.columns]\n",
    "train_data = data[data.columns]\n",
    "\n",
    "test_data = data.loc[data.index.floor(\"D\") == pd.Timestamp('2017-06-01 00:00:00')]\n",
    "train_data = data.loc[data.index.floor(\"D\") != pd.Timestamp('2017-06-01 00:00:00')]\n",
    "\n",
    "train_data = train_data.sort_index()\n",
    "test_data = test_data.sort_index()\n",
    "\n",
    "train_data = train_data.fillna(method=\"ffill\")\n",
    "test_data = test_data.fillna(method=\"ffill\")\n",
    "\n",
    "def add_features(data):\n",
    "\n",
    "    data[\"diff Volume\"] =data[\"Volume\"].shift(-1) - data[\"Volume\"]\n",
    "    data[\"diff Turnover\"] = data[\"Turnover\"].shift(-1) - data[\"Turnover\"]\n",
    "    data[\"Mean Px Taken\"] = (data[\"diff Turnover\"]/data[\"diff Volume\"]).fillna(method=\"ffill\")\n",
    "    data[\"Median Px\"] = (data[\"Bid Px\"] + data[\"Ask Px\"])*0.5\n",
    "    data[\"Median Px\"] = data[\"Median Px\"].fillna(method=\"ffill\")\n",
    "    data[\"diff Median Px\"] = data[\"Median Px\"].shift(-1) - data[\"Median Px\"]\n",
    "    data[\"diff Mean Px\"] =  data[\"Mean Px Taken\"].shift(-1) - data[\"Mean Px Taken\"]\n",
    "    data[\"diff Bid Px\"] =  data[\"Bid Px\"].shift(-1) - data[\"Bid Px\"]\n",
    "    data[\"diff Ask Px\"] = data[\"Ask Px\"].shift(-1) - data[\"Ask Px\"] \n",
    "\n",
    "    data[\"log mean return\"] = np.log(data[\"Median Px\"].shift(-1)) - np.log(data[\"Median Px\"]) \n",
    "    data[\"log mean return\"] = data[\"log mean return\"].fillna(method=\"ffill\")\n",
    "\n",
    "    data[\"imbalance\"] = data[\"Bid Vol\"] - data[\"Ask Vol\"]\n",
    "    data[\"Px gap\"] = (data[\"Ask Px\"] - data[\"Bid Px\"])/data[\"Median Px\"]\n",
    "\n",
    "    data[\"Bid active\"] = data[\"Bid Arrival\"] - data[\"Bid Retreat\"] - data[\"Bid Taken\"]\n",
    "    data[\"Ask active\"] = data[\"Ask Arrival\"] - data[\"Ask Retreat\"] - data[\"Ask Taken\"]\n",
    "\n",
    "    data[\"volatile\"] = data[\"log mean return\"].rolling(5*30).std() # 30 = 1 mins\n",
    "    data[\"volatile\"] = data[\"volatile\"].fillna(method=\"ffill\")\n",
    "\n",
    "    data[\"Last Px - Median Px\"] = data[\"Last Px\"] - data[\"Median Px\"]\n",
    "\n",
    "    data[\"Time from Open\"] = (data.index - data.index.floor(\"D\") ).astype('timedelta64[s]')\n",
    "        \n",
    "    return data  \n",
    "        \n",
    "def add_abs_features(data):    \n",
    "    data[\"abs(Last Px - Median Px)\"] = np.absolute(data[\"Last Px - Median Px\"])\n",
    "    data[\"abs diff Median Px\"] = np.absolute(data[\"diff Median Px\"])\n",
    "    data[\"abs diff Mean Px\"] = np.absolute(data[\"diff Mean Px\"])\n",
    "    data[\"abs diff Bid Px\"] =  np.absolute(data[\"diff Bid Px\"])\n",
    "    data[\"abs diff Ask Px\"] = np.absolute(data[\"diff Ask Px\"])\n",
    "    data[\"abs Bid active\"] = np.absolute(data[\"Bid active\"])\n",
    "    data[\"abs Ask active\"] = np.absolute(data[\"Ask active\"])\n",
    "    data[\"abs log mean return\"] = np.absolute(data[\"log mean return\"])\n",
    "\n",
    "    return data\n",
    "    \n",
    "def add_shifted_features(data):\n",
    "    columns = data.columns.drop([\"Ask Arr Pred\", \"Bid Arr Pred\"])\n",
    "    delays = [1,2,5]\n",
    "    for delay in delays:\n",
    "        for c in columns:\n",
    "            if (\"diff \" + c in columns) and delay == 1:\n",
    "                continue\n",
    "            data[\"d_\"+str(delay)+\"_\"+c] = data[c].shift(delay)\n",
    "            \n",
    "    return data\n",
    "\n",
    "    \n",
    "test_data = add_features(test_data)\n",
    "train_data = add_features(train_data)\n",
    "\n",
    "test_data_original  = test_data.copy()\n",
    "train_data_original = train_data.copy()\n",
    "\n",
    "imputer = SimpleImputer()\n",
    "scaler = RobustScaler()\n",
    "\n",
    "trainX = train_data.drop(columns = [\"Bid Arr Pred\", \"Ask Arr Pred\"])\n",
    "testX = test_data.drop(columns = [\"Bid Arr Pred\", \"Ask Arr Pred\"])\n",
    "\n",
    "trainX_imputed = imputer.fit(trainX).transform(trainX)\n",
    "testX_imputed = imputer.transform(testX)\n",
    "\n",
    "trainX_scaled = scaler.fit(trainX_imputed).transform(trainX_imputed)\n",
    "testX_scaled = scaler.transform(testX_imputed)\n",
    "\n",
    "train_data[trainX.columns] = trainX_scaled\n",
    "test_data[testX.columns] = testX_scaled\n",
    "\n",
    "train_data = add_abs_features(train_data)\n",
    "test_data = add_abs_features(test_data)\n",
    "\n",
    "train_data = add_shifted_features(train_data)\n",
    "test_data = add_shifted_features(test_data)\n",
    "\n",
    "# Impute nans for shifted values\n",
    "imputer = SimpleImputer()\n",
    "trainX = train_data.drop(columns = [\"Bid Arr Pred\", \"Ask Arr Pred\"])\n",
    "testX = test_data.drop(columns = [\"Bid Arr Pred\", \"Ask Arr Pred\"])\n",
    "trainX_imputed = imputer.fit(trainX).transform(trainX)\n",
    "testX_imputed = imputer.transform(testX)\n",
    "train_data[trainX.columns] = trainX_imputed\n",
    "test_data[testX.columns] = testX_imputed"
   ]
  },
  {
   "cell_type": "markdown",
   "metadata": {},
   "source": [
    "## Deep Net Regression Result\n",
    "\n",
    "Before we do the regression problem, we will first see how the deep net does in the amount of order arrivals prediction. Here, we use the probability of order arrival produced from the stacking model multiplied by the amount produced by the deep net as the final prediction. \n",
    "\n",
    "We observe the predicted arrival amounts have moderate prediction that the model can explain up to 30% variation in the test data. However, we see the RMSE is still large considering the standard variation of the data is only slightly larger than the RMSE. We may try to do better by more sophisticated models"
   ]
  },
  {
   "cell_type": "code",
   "execution_count": 49,
   "metadata": {},
   "outputs": [
    {
     "data": {
      "image/png": "[encoded data removed]",
      "text/plain": [
       "<Figure size 432x288 with 1 Axes>"
      ]
     },
     "metadata": {
      "needs_background": "light"
     },
     "output_type": "display_data"
    },
    {
     "data": {
      "image/png": "[encoded data removed]",
      "text/plain": [
       "<Figure size 432x288 with 1 Axes>"
      ]
     },
     "metadata": {
      "needs_background": "light"
     },
     "output_type": "display_data"
    },
    {
     "name": "stdout",
     "output_type": "stream",
     "text": [
      "train R2 scores: 0.3093 , 0.3082\n",
      "train RMSE scores: 1.1558 , 1.1342\n",
      "train data variation: 1.3908 , 1.3636\n",
      "test R2 scores: 0.3212 , 0.2669\n",
      "test RMSE scores: 0.9549 , 1.0775\n",
      "test data variation: 1.1590 , 1.2584\n"
     ]
    }
   ],
   "source": [
    "loadClass = np.load(\"class.npz\")\n",
    "train_deep  = loadClass[\"train_deep\" ]\n",
    "test_deep   = loadClass[\"test_deep\"  ]\n",
    "train_stack = loadClass[\"train_stack\"].reshape((-1,train_deep.shape[0]))\n",
    "test_stack  = loadClass[\"test_stack\" ].reshape((-1,test_deep.shape[0]))\n",
    "\n",
    "\n",
    "train_deep_bid = train_stack[0,:]*train_deep[:,1]\n",
    "train_deep_ask = train_stack[1,:]*train_deep[:,3]\n",
    "\n",
    "test_deep_bid = test_stack[0,:]*test_deep[:,1]\n",
    "test_deep_ask = test_stack[1,:]*test_deep[:,3]\n",
    "\n",
    "plt.figure()\n",
    "plt.title(\"Bid Deep Prediction test\")\n",
    "plt.plot(test_data[\"Bid Arr Pred\"].to_numpy())\n",
    "plt.plot(test_deep_bid)\n",
    "plt.show()\n",
    "\n",
    "plt.figure()\n",
    "plt.title(\"Ask Deep Prediction test\")\n",
    "plt.plot(test_data[\"Ask Arr Pred\"].to_numpy())\n",
    "plt.plot(test_deep_ask)\n",
    "plt.show()\n",
    "\n",
    "\n",
    "print( \n",
    "    \"train R2 scores: %0.4f , %0.4f\"%(\n",
    "    r2_score(train_data[\"Bid Arr Pred\"].to_numpy(), train_deep_bid),\n",
    "    r2_score(train_data[\"Ask Arr Pred\"].to_numpy(), train_deep_ask))\n",
    ")\n",
    "\n",
    "print( \n",
    "    \"train RMSE scores: %0.4f , %0.4f\"%(\n",
    "    np.sqrt(np.mean((train_data[\"Bid Arr Pred\"].to_numpy()- train_deep_bid)**2)),\n",
    "    np.sqrt(np.mean((train_data[\"Ask Arr Pred\"].to_numpy()- train_deep_ask)**2)))\n",
    ")\n",
    "\n",
    "print(\n",
    "    \"train data variation: %0.4f , %0.4f\"%(\n",
    "    np.std(train_data[\"Bid Arr Pred\"].to_numpy()),\n",
    "    np.std(train_data[\"Ask Arr Pred\"].to_numpy()))\n",
    ")\n",
    "\n",
    "print( \n",
    "    \"test R2 scores: %0.4f , %0.4f\"%(\n",
    "    r2_score(test_data[\"Bid Arr Pred\"].to_numpy(), test_deep_bid),\n",
    "    r2_score(test_data[\"Ask Arr Pred\"].to_numpy(), test_deep_ask))\n",
    ")\n",
    "\n",
    "print( \n",
    "    \"test RMSE scores: %0.4f , %0.4f\"%(\n",
    "    np.sqrt(np.mean((test_data[\"Bid Arr Pred\"].to_numpy()- test_deep_bid)**2)),\n",
    "    np.sqrt(np.mean((test_data[\"Ask Arr Pred\"].to_numpy()- test_deep_ask)**2)))\n",
    ")\n",
    "\n",
    "print(\n",
    "    \"test data variation: %0.4f , %0.4f\"%(\n",
    "    np.std(test_data[\"Bid Arr Pred\"].to_numpy()),\n",
    "    np.std(test_data[\"Ask Arr Pred\"].to_numpy()))\n",
    ")"
   ]
  },
  {
   "cell_type": "markdown",
   "metadata": {},
   "source": [
    "## Split to Bid data and Ask data\n",
    "\n",
    "Different than before, when we fitting a regression model, we want to regress the model on the data where the observations are not zero. Thus, we select Bid data and Ask data for which Bid predition and Ask prediction are not zeros respectively. Thus, we would have different data for the two labels. However, for testing data we should not split since a priori, we could not know the labels for test data. \n",
    "\n",
    "The way that we want to **combine the regression data and the classification model is by stacking**. Thus, we plan in the final stacking model, we will train the meta model over the whole dataset and use results from the first stack which consists of regression models and the labels from classification and Deep Nets. \n",
    "\n",
    "Another caveat is since when we select all possitive label data, we would not have $y=0$ observation for sure. However the model we assumed is Poisson Regression. Therefore, we will subtract one from the y labels for training and when we do actual prediction, we will add one to the models' results."
   ]
  },
  {
   "cell_type": "code",
   "execution_count": 3,
   "metadata": {},
   "outputs": [],
   "source": [
    "train_bid = train_data.loc[train_data[\"Bid Arr Pred\"] > 0] \n",
    "X_bid = train_bid.drop(columns = [\"Bid Arr Pred\", \"Ask Arr Pred\"])\n",
    "y_bid = train_bid[\"Bid Arr Pred\"] - 1\n",
    "y_bid_class = y_bid.copy()\n",
    "y_bid_class[y_bid >=10 ] = 10\n",
    "\n",
    "train_ask = train_data.loc[train_data[\"Ask Arr Pred\"] > 0]\n",
    "X_ask = train_ask.drop(columns = [\"Bid Arr Pred\", \"Ask Arr Pred\"])\n",
    "y_ask = train_ask[\"Ask Arr Pred\"] - 1\n",
    "y_ask_class = y_ask.copy()\n",
    "y_ask_class[y_ask >=10 ] = 10\n",
    "\n",
    "X_test = test_data.drop(columns = [\"Bid Arr Pred\", \"Ask Arr Pred\"])\n",
    "y1_test = test_data[\"Bid Arr Pred\"]\n",
    "y2_test = test_data[\"Ask Arr Pred\"]"
   ]
  },
  {
   "cell_type": "markdown",
   "metadata": {},
   "source": [
    "## Using Lasso to Select Parameters\n",
    "\n",
    "From the below plots and the final coefficients plot, it is clear, the features we added are too much for the model and thus we finally use a PCA to reduce dimension and get 50 features in the last. "
   ]
  },
  {
   "cell_type": "code",
   "execution_count": 171,
   "metadata": {},
   "outputs": [
    {
     "name": "stdout",
     "output_type": "stream",
     "text": [
      "0.016722011961020355 0.018047539525862945\n"
     ]
    }
   ],
   "source": [
    "glmnet = R[\"cv.glmnet\"]\n",
    "\n",
    "X_bid_r = robjects.FloatVector(X_bid.to_numpy().flatten())\n",
    "X_bid_r = R[\"matrix\"](X_bid_r, nrow = X_bid.shape[0])\n",
    "y_bid_r = robjects.IntVector(y_bid.to_numpy().flatten())\n",
    "\n",
    "bid = glmnet(X_bid_r, y_bid_r, family=\"poisson\", nfolds = 10) # alter: multinomial\n",
    "\n",
    "\n",
    "X_ask_r = robjects.FloatVector(X_ask.to_numpy().flatten())\n",
    "X_ask_r = R[\"matrix\"](X_ask_r, nrow = y_ask.shape[0])\n",
    "y_ask_r = robjects.IntVector(y_ask.to_numpy().flatten())\n",
    "\n",
    "ask = glmnet(X_ask_r, y_ask_r, family=\"poisson\", nfolds = 10) # alter: multinomial\n",
    "\n",
    "ask_lambda_best = np.array(ask[9])[0]\n",
    "bid_lambda_best = np.array(bid[9])[0]\n",
    "\n",
    "print(ask_lambda_best, bid_lambda_best)"
   ]
  },
  {
   "cell_type": "code",
   "execution_count": 173,
   "metadata": {},
   "outputs": [],
   "source": [
    "## for multiclass coefficient\n",
    "#coef_bid = np.array(R[\"data.matrix\"](R[\"lapply\"](R[\"coef\"](bid, s=\"lambda.min\"), R[\"as.matrix\"] )) )[:,:,0]\n",
    "#coef_ask = np.array(R[\"data.matrix\"](R[\"lapply\"](R[\"coef\"](ask, s=\"lambda.min\"), R[\"as.matrix\"] )) )[:,:,0]\n",
    "\n",
    "#coef_bid_mag = np.sqrt(np.sum(coef_bid**2, axis = 0)[1:])\n",
    "#coef_ask_mag = np.sqrt(np.sum(coef_ask**2, axis = 0)[1:])\n",
    "\n",
    "#bid_pred_proba = np.array(R[\"predict\"](bid, newx = X_bid_r, s = \"lambda.min\", type = \"response\"))[:,:,0]\n",
    "#ask_pred_proba = np.array(R[\"predict\"](ask, newx = X_ask_r, s = \"lambda.min\", type = \"response\"))[:,:,0]\n",
    "\n",
    "#bid_pred = np.argmax(bid_pred_proba, axis = 1)\n",
    "#ask_pred = np.argmax(ask_pred_proba, axis = 1)\n"
   ]
  },
  {
   "cell_type": "code",
   "execution_count": 179,
   "metadata": {},
   "outputs": [
    {
     "name": "stdout",
     "output_type": "stream",
     "text": [
      "0.0016197712882008997 0.0019586468220801345\n"
     ]
    }
   ],
   "source": [
    "## for regression coefficient\n",
    "coef_bid = np.array( R[\"data.matrix\"](R[\"coef\"](bid, s=\"lambda.min\") ))[1:,0]\n",
    "coef_ask = np.array( R[\"data.matrix\"](R[\"coef\"](ask, s=\"lambda.min\") ))[1:,0]\n",
    "\n",
    "\n",
    "coef = pd.DataFrame({\"Bid\": coef_bid.flatten(), \"Ask\": coef_ask.flatten() },\n",
    "                    index = train_data.columns.drop([\"Bid Arr Pred\", \"Ask Arr Pred\"]) )\n",
    "\n",
    "\n",
    "bid_pred = np.array(R[\"predict\"](bid, newx = X_bid_r, s = \"lambda.min\", type = \"response\"))[:,0]\n",
    "ask_pred = np.array(R[\"predict\"](ask, newx = X_ask_r, s = \"lambda.min\", type = \"response\"))[:,0]\n",
    "\n",
    "print(\n",
    "    r2_score(y_bid.to_numpy(), bid_pred) ,\n",
    "    r2_score(y_ask.to_numpy(), ask_pred)\n",
    ")"
   ]
  },
  {
   "cell_type": "code",
   "execution_count": 176,
   "metadata": {},
   "outputs": [
    {
     "data": {
      "text/plain": [
       "[<matplotlib.lines.Line2D at 0x7fabd958bb10>]"
      ]
     },
     "execution_count": 176,
     "metadata": {},
     "output_type": "execute_result"
    },
    {
     "data": {
      "image/png": "[encoded data removed]",
      "text/plain": [
       "<Figure size 432x288 with 1 Axes>"
      ]
     },
     "metadata": {
      "needs_background": "light"
     },
     "output_type": "display_data"
    }
   ],
   "source": [
    "plt.plot(y_bid.to_numpy())\n",
    "plt.plot(bid_pred)\n",
    "#for i in range(11):\n",
    "#    plt.plot(bid_pred_proba[:,i])"
   ]
  },
  {
   "cell_type": "code",
   "execution_count": 180,
   "metadata": {},
   "outputs": [
    {
     "data": {
      "image/png": "[encoded data removed]",
      "text/plain": [
       "<Figure size 1080x1440 with 2 Axes>"
      ]
     },
     "metadata": {
      "needs_background": "light"
     },
     "output_type": "display_data"
    }
   ],
   "source": [
    "plt.figure(figsize = (25,20))\n",
    "ax = plt.subplot(121)\n",
    "coef[coef[\"Bid\"] !=0].sort_values(\"Bid\")[\"Bid\"].plot(kind=\"barh\",figsize=(10,20), ax = ax)\n",
    "ax = plt.subplot(122)\n",
    "coef[coef[\"Ask\"] !=0].sort_values(\"Ask\")[\"Ask\"].plot(kind=\"barh\",figsize=(15,20), ax = ax)\n",
    "plt.xticks(rotation=90)\n",
    "plt.subplots_adjust(wspace = 0.7)\n",
    "plt.show()"
   ]
  },
  {
   "cell_type": "code",
   "execution_count": 181,
   "metadata": {},
   "outputs": [
    {
     "name": "stdout",
     "output_type": "stream",
     "text": [
      "Bid nonzero coef:  17\n",
      "Ask nonzero coef:  23\n",
      "Bid or Ask use:   36\n",
      "both use: 4\n",
      "total availabe: 143\n"
     ]
    }
   ],
   "source": [
    "print(\"Bid nonzero coef: \", np.sum(coef[\"Bid\"] !=0))\n",
    "print(\"Ask nonzero coef: \", np.sum(coef[\"Ask\"] !=0))\n",
    "print(\"Bid or Ask use:  \",np.sum(np.logical_or(coef[\"Ask\"] !=0 \n",
    "                                        ,coef[\"Bid\"] !=0 ) ) )\n",
    "print(\"both use:\", np.sum(np.logical_and(coef[\"Ask\"] !=0 \n",
    "                                        ,coef[\"Bid\"] !=0 ) ) )\n",
    "\n",
    "print(\"total availabe:\", coef.shape[0])"
   ]
  },
  {
   "cell_type": "code",
   "execution_count": 159,
   "metadata": {},
   "outputs": [],
   "source": [
    "both_used_features = list(coef.index[np.logical_or(coef[\"Ask\"] !=0,coef[\"Bid\"] !=0 )])"
   ]
  },
  {
   "cell_type": "markdown",
   "metadata": {},
   "source": [
    "**We see the Regression almost fails since the $R^2$ score is almost zero and the classification is always the zero class. We should try other classification method**"
   ]
  },
  {
   "cell_type": "code",
   "execution_count": 182,
   "metadata": {},
   "outputs": [
    {
     "name": "stdout",
     "output_type": "stream",
     "text": [
      "0.3882626492638167\n"
     ]
    }
   ],
   "source": [
    "KNN_bid = KNeighborsRegressor()\n",
    "KNN_bid = KNN_bid.fit(X_bid, y_bid) \n",
    "KNN_bid_pred = KNN_bid.predict(X_test) # can only test on test data\n",
    "print(\n",
    "    r2_score(y1_test.to_numpy(), KNN_bid_pred)\n",
    ")\n",
    "\n",
    "plt.plot(y1_bid.to_numpy())\n",
    "plt.plot(KNN_bid_pred)"
   ]
  },
  {
   "cell_type": "code",
   "execution_count": 195,
   "metadata": {},
   "outputs": [
    {
     "name": "stdout",
     "output_type": "stream",
     "text": [
      "-0.007328945554517796 1.163274840977306\n"
     ]
    },
    {
     "data": {
      "image/png": "[encoded data removed]",
      "text/plain": [
       "<Figure size 432x288 with 1 Axes>"
      ]
     },
     "metadata": {
      "needs_background": "light"
     },
     "output_type": "display_data"
    }
   ],
   "source": [
    "plt.plot(y1_test.to_numpy() - KNN_bid_pred)\n",
    "#plt.plot(KNN_bid_pred)\n",
    "print(\n",
    "    r2_score(y1_test.to_numpy(), KNN_bid_pred),\n",
    "    np.sqrt(np.mean((y1_test.to_numpy()- KNN_bid_pred)**2))\n",
    ")"
   ]
  },
  {
   "cell_type": "code",
   "execution_count": 196,
   "metadata": {},
   "outputs": [
    {
     "data": {
      "text/plain": [
       "1.1590353411074013"
      ]
     },
     "execution_count": 196,
     "metadata": {},
     "output_type": "execute_result"
    }
   ],
   "source": [
    "np.std(y1_test.to_numpy())"
   ]
  },
  {
   "cell_type": "code",
   "execution_count": 24,
   "metadata": {},
   "outputs": [
    {
     "name": "stdout",
     "output_type": "stream",
     "text": [
      "0.0\n"
     ]
    }
   ],
   "source": [
    "Poisson_bid = PoissonRegressor(max_iter = 10000, warm_start = True, verbose = 1 )\n",
    "Poisson_bid = Poisson_bid.fit(X_bid.to_numpy(), y_bid.to_numpy()) \n",
    "Poisson_bid_pred = Poisson_bid.predict(X_bid)\n",
    "print(\n",
    "    r2_score(y_bid.to_numpy(), Poisson_bid_pred)\n",
    ")"
   ]
  },
  {
   "cell_type": "code",
   "execution_count": 26,
   "metadata": {},
   "outputs": [
    {
     "data": {
      "text/plain": [
       "array([0.82560578, 0.82560578, 0.82560578, ..., 0.82560578, 0.82560578,\n",
       "       0.82560578])"
      ]
     },
     "execution_count": 26,
     "metadata": {},
     "output_type": "execute_result"
    }
   ],
   "source": [
    "Poisson_bid_pred"
   ]
  },
  {
   "cell_type": "markdown",
   "metadata": {},
   "source": [
    "## PCA transform\n",
    "\n",
    "We first select the parameters that are all needed for both ask and bid and then we use full PCA to get the explained variance plot and we find there is long platau and thus we should select $80$ degress of components as our input features"
   ]
  },
  {
   "cell_type": "code",
   "execution_count": 15,
   "metadata": {},
   "outputs": [
    {
     "data": {
      "image/png": "[encoded data removed]",
      "text/plain": [
       "<Figure size 432x288 with 1 Axes>"
      ]
     },
     "metadata": {
      "needs_background": "light"
     },
     "output_type": "display_data"
    }
   ],
   "source": [
    "both_used_features = list(coef.index[np.logical_or(coef[\"Ask\"] !=0,coef[\"Bid\"] !=0 )])\n",
    "X = train_data[both_used_features]\n",
    "X_test = test_data[both_used_features]\n",
    "\n",
    "pca = PCA(n_components = 86)\n",
    "pca.fit(X)\n",
    "plt.plot(pca.explained_variance_ratio_)\n",
    "plt.yscale(\"log\")\n",
    "plt.show()"
   ]
  },
  {
   "cell_type": "code",
   "execution_count": 16,
   "metadata": {},
   "outputs": [],
   "source": [
    "pca = PCA(n_components = 80)\n",
    "X_pca = pca.fit(X).transform(X)\n",
    "X_test_pca = pca.transform(X_test)"
   ]
  },
  {
   "cell_type": "markdown",
   "metadata": {},
   "source": [
    "## Select Models \n",
    "\n",
    "we would first use the following models and try to filter out some good models. \n",
    "\n",
    "  - Logistic\n",
    "  - K-nearest neighbors\n",
    "  - Gradient Boost\n",
    "  - XgBoost\n",
    "  - ExtraTree\n",
    "  - SVC linear\n",
    "  - Decision Tree\n",
    "  - Random Forest\n",
    "  - AdaBoost\n",
    "  - NaiveBayes\n",
    "  - Quadratic Discrimnant Analysis\n",
    "  "
   ]
  },
  {
   "cell_type": "code",
   "execution_count": 17,
   "metadata": {},
   "outputs": [],
   "source": [
    "def class_cv(model,X,y, scoring = \"f1\"):\n",
    "    \n",
    "    score = cross_val_score(model, X, y, scoring= scoring, cv=5)\n",
    "    \n",
    "    return score\n",
    "\n",
    "class grid():\n",
    "    def __init__(self,model):\n",
    "        self.model = model\n",
    "    \n",
    "    def grid_get(self,X,y,param_grid):\n",
    "        grid_search = GridSearchCV(self.model,param_grid, cv=5, scoring=\"f1\")\n",
    "        grid_search.fit(X,y)\n",
    "        print(grid_search.best_params_, grid_search.best_score_)\n",
    "        print(pd.DataFrame(grid_search.cv_results_)[['params','mean_test_score','std_test_score']])"
   ]
  },
  {
   "cell_type": "markdown",
   "metadata": {},
   "source": [
    "### Selection models for Bid Arrivals\n",
    "\n",
    "We will first use the PCA output of the transformed inputs to select good models using the score of f1 since f1 socre will be more sensitive to the behaviour of the models. Although, in case we care more about the predictibility of the model (i.e. the probability it estimates for non-zero order arrivals), we should use the AUC score to select the model, the f1 score is more suitable for unbalanced data. Our data is unbalanced and we want more contrast over the behaviour of different models, we will select **f1** socre as our selection rule. "
   ]
  },
  {
   "cell_type": "code",
   "execution_count": 20,
   "metadata": {},
   "outputs": [],
   "source": [
    "bid_models_PCA = [\n",
    "    LogisticRegression(C = 0.1, solver = 'lbfgs'),\n",
    "    KNeighborsClassifier(n_neighbors = 10, algorithm = \"kd_tree\"),\n",
    "    GradientBoostingClassifier(),\n",
    "    XGBClassifier(n_estimators=20),\n",
    "    ExtraTreesClassifier(n_estimators = 50),\n",
    "    LinearSVC(C = 0.1, max_iter = 5000),\n",
    "    DecisionTreeClassifier(max_depth = 6),\n",
    "    RandomForestClassifier(max_depth = 4, n_estimators = 20),\n",
    "    AdaBoostClassifier(DecisionTreeClassifier(max_depth = 2), n_estimators=20),\n",
    "    GaussianNB(),\n",
    "    QuadraticDiscriminantAnalysis(reg_param=0.01)\n",
    "]\n",
    "\n",
    "bid_models_names = [\n",
    "    \"Logit\",\n",
    "    \"KNN\",\n",
    "    \"GBoost\",\n",
    "    \"xgboost\",\n",
    "    \"ExTree\",\n",
    "    \"linear_SVC\",\n",
    "    \"DTree\",\n",
    "    \"Forest\",\n",
    "    \"AdaBoost\",\n",
    "    \"NaiveBayes\",\n",
    "    \"QDA\"\n",
    "]"
   ]
  },
  {
   "cell_type": "code",
   "execution_count": 21,
   "metadata": {
    "scrolled": false
   },
   "outputs": [
    {
     "name": "stdout",
     "output_type": "stream",
     "text": [
      "Logit: 0.711088, 0.0121, 0.826818\n",
      "KNN: 0.460855, 0.0249, 0.728190\n",
      "GBoost: 0.664496, 0.0151, 0.811808\n",
      "xgboost: 0.677168, 0.0135, 0.814608\n",
      "ExTree: 0.600643, 0.0260, 0.782692\n",
      "linear_SVC: 0.707182, 0.0124, 0.826238\n",
      "DTree: 0.574832, 0.0148, 0.746047\n",
      "Forest: 0.442850, 0.0464, 0.754557\n",
      "AdaBoost: 0.645697, 0.0138, 0.779460\n",
      "NaiveBayes: 0.420788, 0.0615, 0.646090\n",
      "QDA: 0.688317, 0.0139, 0.798981\n"
     ]
    }
   ],
   "source": [
    "for name, model in zip(bid_models_names, bid_models_PCA):\n",
    "    score = class_cv(model, X_pca, y1>0)\n",
    "    auc_score = class_cv(model, X_pca, y1>0, \"roc_auc\")\n",
    "    print(\"{}: {:.6f}, {:.4f}, {:.6f}\".format(name,score.mean(),score.std(), auc_score.mean() ))"
   ]
  },
  {
   "cell_type": "markdown",
   "metadata": {},
   "source": [
    "Since the dimension of the input variables is too big for the KNN given the number of data points in the data set, the behaviour of KNN is very bad and we should reject it. Similar for the NaiveBayes and we would not use it. For the random forest and Decision tree, we did not see great performance. This may be because we used too shallow trees. Then we will consider adjusting some hyperparameters to get a better model. The models we select are \n",
    "\n",
    " - Logistic Regression\n",
    " - Gradinet Boost\n",
    " - XgBoost\n",
    " - Linear SVC\n",
    " - Decision Tree\n",
    " - AdaBoost\n",
    " - Quadratic Discrimnant Analysis\n",
    " \n",
    "we may also try random forest for more trees\n",
    " \n",
    " - Randome Forest (More Trees)\n"
   ]
  },
  {
   "cell_type": "code",
   "execution_count": 23,
   "metadata": {},
   "outputs": [
    {
     "name": "stdout",
     "output_type": "stream",
     "text": [
      "Logit\n",
      "{'C': 0.01} 0.7107154203866328\n",
      "         params  mean_test_score  std_test_score\n",
      "0  {'C': 100.0}         0.709866        0.011819\n",
      "1   {'C': 10.0}         0.709599        0.011825\n",
      "2    {'C': 1.0}         0.710357        0.011689\n",
      "3   {'C': 0.01}         0.710715        0.012595\n",
      "XGBClassifier\n",
      "{'n_estimators': 50} 0.6936064178013708\n",
      "                 params  mean_test_score  std_test_score\n",
      "0  {'n_estimators': 10}         0.652380        0.014316\n",
      "1  {'n_estimators': 20}         0.677169        0.013518\n",
      "2  {'n_estimators': 30}         0.684372        0.013395\n",
      "3  {'n_estimators': 50}         0.693606        0.012437\n",
      "LinearSVC\n",
      "{'C': 0.01} 0.7072782798875626\n",
      "        params  mean_test_score  std_test_score\n",
      "0   {'C': 1.0}         0.706779        0.012182\n",
      "1  {'C': 0.01}         0.707278        0.012749\n",
      "DTree\n",
      "{'max_depth': 10} 0.5997700208157566\n",
      "              params  mean_test_score  std_test_score\n",
      "0   {'max_depth': 5}         0.543757        0.023270\n",
      "1  {'max_depth': 10}         0.599770        0.012672\n",
      "2  {'max_depth': 15}         0.599458        0.010006\n",
      "3  {'max_depth': 20}         0.594963        0.012862\n",
      "AdaBoost 2\n",
      "{'n_estimators': 70} 0.6849345757966604\n",
      "                 params  mean_test_score  std_test_score\n",
      "0  {'n_estimators': 10}         0.620915        0.010919\n",
      "1  {'n_estimators': 40}         0.670145        0.014452\n",
      "2  {'n_estimators': 50}         0.676737        0.014341\n",
      "3  {'n_estimators': 70}         0.684935        0.014320\n",
      "AdaBoost 4\n",
      "{'n_estimators': 70} 0.6823070403077282\n",
      "                 params  mean_test_score  std_test_score\n",
      "0  {'n_estimators': 10}         0.647363        0.014498\n",
      "1  {'n_estimators': 40}         0.678834        0.013476\n",
      "2  {'n_estimators': 50}         0.681073        0.012353\n",
      "3  {'n_estimators': 70}         0.682307        0.013384\n",
      "QDA\n",
      "{'reg_param': 0.001} 0.689914287363178\n",
      "                 params  mean_test_score  std_test_score\n",
      "0    {'reg_param': 1.0}         0.532682        0.042156\n",
      "1    {'reg_param': 0.1}         0.587664        0.038508\n",
      "2  {'reg_param': 0.001}         0.689914        0.014261\n",
      "Random Forest\n",
      "{'max_depth': 12, 'n_estimators': 150} 0.6434474728899146\n",
      "                                    params  mean_test_score  std_test_score\n",
      "0     {'max_depth': 2, 'n_estimators': 50}         0.203266        0.069275\n",
      "1    {'max_depth': 2, 'n_estimators': 100}         0.205392        0.049958\n",
      "2    {'max_depth': 2, 'n_estimators': 150}         0.211233        0.040080\n",
      "3     {'max_depth': 6, 'n_estimators': 50}         0.539899        0.039244\n",
      "4    {'max_depth': 6, 'n_estimators': 100}         0.542623        0.032265\n",
      "5    {'max_depth': 6, 'n_estimators': 150}         0.537284        0.031661\n",
      "6     {'max_depth': 8, 'n_estimators': 50}         0.593395        0.023649\n",
      "7    {'max_depth': 8, 'n_estimators': 100}         0.589806        0.026219\n",
      "8    {'max_depth': 8, 'n_estimators': 150}         0.596182        0.025475\n",
      "9    {'max_depth': 12, 'n_estimators': 50}         0.637834        0.013600\n",
      "10  {'max_depth': 12, 'n_estimators': 100}         0.643336        0.018126\n",
      "11  {'max_depth': 12, 'n_estimators': 150}         0.643447        0.015740\n"
     ]
    }
   ],
   "source": [
    "print(\"Logit\")\n",
    "param_grid={'C':[100.0, 10.0, 1.0, 0.01,] }\n",
    "grid(LogisticRegression(max_iter=1000, solver=\"lbfgs\")).grid_get(X_pca,y1>0,param_grid)\n",
    "\n",
    "print (\"XGBClassifier\")\n",
    "param_grid={'n_estimators':[10, 20, 30, 50]}\n",
    "grid(XGBClassifier()).grid_get(X_pca,y1>0,param_grid)\n",
    "\n",
    "print(\"LinearSVC\")\n",
    "param_grid={'C':[1.0, 0.01]}\n",
    "grid(LinearSVC(max_iter = 5000)).grid_get(X_pca,y1>0,param_grid)\n",
    "\n",
    "print (\"DTree\")\n",
    "param_grid={'max_depth':[5, 10, 15, 20]}\n",
    "grid(DecisionTreeClassifier()).grid_get(X_pca,y1>0,param_grid)\n",
    "\n",
    "print(\"AdaBoost 2\")\n",
    "param_grid={'n_estimators':[10, 40, 50, 70] }\n",
    "grid(AdaBoostClassifier(DecisionTreeClassifier(max_depth = 2) )).grid_get(X_pca,y1>0,param_grid)\n",
    "\n",
    "print(\"AdaBoost 4\")\n",
    "param_grid={'n_estimators':[10, 40, 50, 70] }\n",
    "grid(AdaBoostClassifier(DecisionTreeClassifier(max_depth = 4) )).grid_get(X_pca,y1>0,param_grid)\n",
    "\n",
    "print(\"QDA\")\n",
    "param_grid={'reg_param':[1.0, 0.1, 0.001] }\n",
    "grid(QuadraticDiscriminantAnalysis()).grid_get(X_pca,y1>0,param_grid)\n",
    "\n",
    "print (\"Random Forest\")\n",
    "param_grid={'max_depth':[2, 6, 8, 12], \"n_estimators\":[50, 100, 150]}\n",
    "grid(RandomForestClassifier()).grid_get(X_pca,y1>0,param_grid)\n",
    "\n"
   ]
  },
  {
   "cell_type": "markdown",
   "metadata": {},
   "source": [
    "### Selection models for Ask Arrivals\n",
    "\n",
    "We will use the same starting models to train on the ask outputs and select some of them to make our final models. However, as we find the KNN could not deal with the high dimension by the curse of dimensionality, we will omit the KNN and use the rest of the models. Then for the Random Forest, we will use more trees than before. "
   ]
  },
  {
   "cell_type": "code",
   "execution_count": 25,
   "metadata": {},
   "outputs": [],
   "source": [
    "ask_models_PCA = [\n",
    "    LogisticRegression(C = 0.1, solver = 'lbfgs'),\n",
    "    GradientBoostingClassifier(),\n",
    "    XGBClassifier(n_estimators=20),\n",
    "    ExtraTreesClassifier(n_estimators = 50),\n",
    "    LinearSVC(C = 0.1, max_iter = 5000),\n",
    "    DecisionTreeClassifier(max_depth = 6),\n",
    "    RandomForestClassifier(max_depth = 4, n_estimators = 50),\n",
    "    AdaBoostClassifier(DecisionTreeClassifier(max_depth = 2), n_estimators=20),\n",
    "    GaussianNB(),\n",
    "    QuadraticDiscriminantAnalysis(reg_param=0.01)\n",
    "]\n",
    "\n",
    "ask_models_names = [\n",
    "    \"Logit\",\n",
    "    \"GBoost\",\n",
    "    \"xgboost\",\n",
    "    \"ExTree\",\n",
    "    \"linear_SVC\",\n",
    "    \"DTree\",\n",
    "    \"Forest\",\n",
    "    \"AdaBoost\",\n",
    "    \"NaiveBayes\",\n",
    "    \"QDA\"\n",
    "]"
   ]
  },
  {
   "cell_type": "code",
   "execution_count": 26,
   "metadata": {},
   "outputs": [
    {
     "name": "stdout",
     "output_type": "stream",
     "text": [
      "Logit: 0.712363, 0.0144, 0.831260\n",
      "GBoost: 0.662984, 0.0163, 0.812412\n",
      "xgboost: 0.672297, 0.0145, 0.812387\n",
      "ExTree: 0.597642, 0.0227, 0.785281\n",
      "linear_SVC: 0.708763, 0.0157, 0.830370\n",
      "DTree: 0.534103, 0.0184, 0.736487\n",
      "Forest: 0.420623, 0.0541, 0.757194\n",
      "AdaBoost: 0.643461, 0.0145, 0.780702\n",
      "NaiveBayes: 0.412500, 0.0554, 0.639483\n",
      "QDA: 0.688144, 0.0181, 0.799684\n"
     ]
    }
   ],
   "source": [
    "for name, model in zip(ask_models_names, ask_models_PCA):\n",
    "    score = class_cv(model, X_pca, y2>0)\n",
    "    auc_score = class_cv(model, X_pca, y2>0, \"roc_auc\")\n",
    "    print(\"{}: {:.6f}, {:.4f}, {:.6f}\".format(name,score.mean(),score.std(), auc_score.mean() ))"
   ]
  },
  {
   "cell_type": "markdown",
   "metadata": {},
   "source": [
    "Then we will consider adjusting some hyperparameters to get a better model. The models we select are \n",
    "\n",
    " - Logistic Regression\n",
    " - Gradinet Boost\n",
    " - XgBoost\n",
    " - Linear SVC\n",
    " - AdaBoost\n",
    " - Quadratic Discrimnant Analysis\n",
    " \n",
    " Then we will fine tune the hyper parameter to make the classification more powerful \n"
   ]
  },
  {
   "cell_type": "code",
   "execution_count": 27,
   "metadata": {},
   "outputs": [
    {
     "name": "stdout",
     "output_type": "stream",
     "text": [
      "Logit\n",
      "{'C': 1.0} 0.7125759708434605\n",
      "          params  mean_test_score  std_test_score\n",
      "0  {'C': 1000.0}         0.711809        0.014039\n",
      "1    {'C': 10.0}         0.711914        0.014401\n",
      "2     {'C': 1.0}         0.712576        0.014483\n",
      "3    {'C': 0.01}         0.711646        0.014552\n",
      "4   {'C': 0.001}         0.709173        0.016084\n",
      "XGBClassifier\n",
      "{'n_estimators': 70} 0.6985042926056843\n",
      "                 params  mean_test_score  std_test_score\n",
      "0  {'n_estimators': 10}         0.638714        0.017333\n",
      "1  {'n_estimators': 30}         0.684568        0.013472\n",
      "2  {'n_estimators': 50}         0.693486        0.014400\n",
      "3  {'n_estimators': 70}         0.698504        0.012833\n",
      "LinearSVC\n",
      "{'C': 1.0} 0.7087435040405398\n",
      "         params  mean_test_score  std_test_score\n",
      "0   {'C': 10.0}         0.707038        0.017295\n",
      "1    {'C': 1.0}         0.708744        0.015372\n",
      "2   {'C': 0.01}         0.708201        0.015800\n",
      "3  {'C': 0.001}         0.707238        0.015800\n",
      "AdaBoost 2\n",
      "{'n_estimators': 100} 0.6941251124586559\n",
      "                  params  mean_test_score  std_test_score\n",
      "0   {'n_estimators': 10}         0.613166        0.014909\n",
      "1   {'n_estimators': 40}         0.673247        0.018719\n",
      "2   {'n_estimators': 50}         0.680051        0.018586\n",
      "3   {'n_estimators': 70}         0.687036        0.018238\n",
      "4  {'n_estimators': 100}         0.694125        0.015774\n",
      "AdaBoost 4\n",
      "{'n_estimators': 100} 0.6850206550445682\n",
      "                  params  mean_test_score  std_test_score\n",
      "0   {'n_estimators': 10}         0.648176        0.013177\n",
      "1   {'n_estimators': 40}         0.679495        0.014859\n",
      "2   {'n_estimators': 50}         0.680499        0.015620\n",
      "3   {'n_estimators': 70}         0.683125        0.015044\n",
      "4  {'n_estimators': 100}         0.685021        0.014696\n",
      "QDA\n",
      "{'reg_param': 0.001} 0.6887567324255873\n",
      "                 params  mean_test_score  std_test_score\n",
      "0    {'reg_param': 1.0}         0.526683        0.036096\n",
      "1    {'reg_param': 0.1}         0.587646        0.034699\n",
      "2   {'reg_param': 0.01}         0.688143        0.018073\n",
      "3  {'reg_param': 0.001}         0.688757        0.018573\n"
     ]
    }
   ],
   "source": [
    "print(\"Logit\")\n",
    "param_grid={'C':[1000.0, 10.0, 1.0, 0.01, 0.001] }\n",
    "grid(LogisticRegression(max_iter=1000, solver=\"lbfgs\")).grid_get(X_pca,y2>0,param_grid)\n",
    "\n",
    "print (\"XGBClassifier\")\n",
    "param_grid={'n_estimators':[10, 50, 100, 150]}\n",
    "grid(XGBClassifier()).grid_get(X_pca,y2>0,param_grid)\n",
    "\n",
    "print(\"LinearSVC\")\n",
    "param_grid={'C':[10.0, 1.0, 0.01, 0.001]}\n",
    "grid(LinearSVC(max_iter = 5000)).grid_get(X_pca,y2>0,param_grid)\n",
    "\n",
    "print(\"AdaBoost 2\")\n",
    "param_grid={'n_estimators':[10, 50, 70, 100] }\n",
    "grid(AdaBoostClassifier(DecisionTreeClassifier(max_depth = 2) )).grid_get(X_pca,y2>0,param_grid)\n",
    "\n",
    "print(\"AdaBoost 4\")\n",
    "param_grid={'n_estimators':[10, 50, 70, 100] }\n",
    "grid(AdaBoostClassifier(DecisionTreeClassifier(max_depth = 4) )).grid_get(X_pca,y2>0,param_grid)\n",
    "\n",
    "print(\"QDA\")\n",
    "param_grid={'reg_param':[1.0, 0.1 , 0.01, 0.001] }\n",
    "grid(QuadraticDiscriminantAnalysis()).grid_get(X_pca,y2>0,param_grid)\n",
    "\n"
   ]
  },
  {
   "cell_type": "markdown",
   "metadata": {},
   "source": [
    "## Stacking the Models for the classification\n",
    "\n",
    "We first append the deep net results to the data since we would like to train the meta classifier in the second stack of our stack with the inputs from the deep Nets. \n"
   ]
  },
  {
   "cell_type": "code",
   "execution_count": 29,
   "metadata": {},
   "outputs": [
    {
     "name": "stdout",
     "output_type": "stream",
     "text": [
      "          bid_model  ask_model\n",
      "loss       0.988220   0.966312\n",
      "AUC        0.536012   0.545173\n",
      "f1_score   0.448910   0.000000\n",
      "accuracy   0.534717   0.614826\n",
      "          bid_model  ask_model\n",
      "loss       0.985975   0.967239\n",
      "AUC        0.445893   0.562891\n",
      "f1_score   0.000000   0.000000\n",
      "accuracy   0.623536   0.626218\n"
     ]
    },
    {
     "ename": "AttributeError",
     "evalue": "'NoneType' object has no attribute 'to_numpy'",
     "output_type": "error",
     "traceback": [
      "\u001b[0;31m---------------------------------------------------------------------------\u001b[0m",
      "\u001b[0;31mAttributeError\u001b[0m                            Traceback (most recent call last)",
      "\u001b[0;32m<ipython-input-29-277ec4e8c42b>\u001b[0m in \u001b[0;36m<module>\u001b[0;34m\u001b[0m\n\u001b[1;32m      7\u001b[0m \u001b[0mtest_data_deep\u001b[0m  \u001b[0;34m=\u001b[0m \u001b[0mload_and_evaluate\u001b[0m\u001b[0;34m(\u001b[0m\u001b[0;34m[\u001b[0m\u001b[0mbid_path\u001b[0m\u001b[0;34m,\u001b[0m \u001b[0mask_path\u001b[0m\u001b[0;34m]\u001b[0m\u001b[0;34m,\u001b[0m \u001b[0mtest_data_original\u001b[0m \u001b[0;34m)\u001b[0m\u001b[0;34m\u001b[0m\u001b[0;34m\u001b[0m\u001b[0m\n\u001b[1;32m      8\u001b[0m \u001b[0;34m\u001b[0m\u001b[0m\n\u001b[0;32m----> 9\u001b[0;31m \u001b[0mtrain_data_deep\u001b[0m \u001b[0;34m=\u001b[0m \u001b[0mtrain_data_deep\u001b[0m\u001b[0;34m.\u001b[0m\u001b[0mto_numpy\u001b[0m\u001b[0;34m(\u001b[0m\u001b[0;34m)\u001b[0m\u001b[0;34m\u001b[0m\u001b[0;34m\u001b[0m\u001b[0m\n\u001b[0m\u001b[1;32m     10\u001b[0m \u001b[0mtest_data_deep\u001b[0m  \u001b[0;34m=\u001b[0m \u001b[0mtest_data_deep\u001b[0m\u001b[0;34m.\u001b[0m\u001b[0mto_numpy\u001b[0m\u001b[0;34m(\u001b[0m\u001b[0;34m)\u001b[0m\u001b[0;34m\u001b[0m\u001b[0;34m\u001b[0m\u001b[0m\n",
      "\u001b[0;31mAttributeError\u001b[0m: 'NoneType' object has no attribute 'to_numpy'"
     ]
    }
   ],
   "source": [
    "from DeepNets.train import load_and_evaluate\n",
    "\n",
    "bid_path = \"./DeepNets/bid_CNN_2.pth\"\n",
    "ask_path = \"./DeepNets/ask_CNN_2.pth\"\n",
    "\n",
    "train_data_deep = load_and_evaluate([bid_path, ask_path], train_data_original)\n",
    "test_data_deep  = load_and_evaluate([bid_path, ask_path], test_data_original )\n",
    "\n",
    "train_data_deep = train_data_deep.to_numpy()\n",
    "test_data_deep  = test_data_deep.to_numpy()\n"
   ]
  },
  {
   "cell_type": "code",
   "execution_count": 30,
   "metadata": {},
   "outputs": [
    {
     "name": "stdout",
     "output_type": "stream",
     "text": [
      "          bid_model  ask_model\n",
      "loss       1.119098   0.959389\n",
      "AUC        0.446333   0.557607\n",
      "f1_score   0.561258   0.170395\n",
      "accuracy   0.390167   0.622002\n",
      "          bid_model  ask_model\n",
      "loss       0.996832   0.976029\n",
      "AUC        0.461893   0.542309\n",
      "f1_score   0.073504   0.000000\n",
      "accuracy   0.610892   0.626273\n"
     ]
    },
    {
     "ename": "AttributeError",
     "evalue": "'NoneType' object has no attribute 'to_numpy'",
     "output_type": "error",
     "traceback": [
      "\u001b[0;31m---------------------------------------------------------------------------\u001b[0m",
      "\u001b[0;31mAttributeError\u001b[0m                            Traceback (most recent call last)",
      "\u001b[0;32m<ipython-input-30-277ec4e8c42b>\u001b[0m in \u001b[0;36m<module>\u001b[0;34m\u001b[0m\n\u001b[1;32m      7\u001b[0m \u001b[0mtest_data_deep\u001b[0m  \u001b[0;34m=\u001b[0m \u001b[0mload_and_evaluate\u001b[0m\u001b[0;34m(\u001b[0m\u001b[0;34m[\u001b[0m\u001b[0mbid_path\u001b[0m\u001b[0;34m,\u001b[0m \u001b[0mask_path\u001b[0m\u001b[0;34m]\u001b[0m\u001b[0;34m,\u001b[0m \u001b[0mtest_data_original\u001b[0m \u001b[0;34m)\u001b[0m\u001b[0;34m\u001b[0m\u001b[0;34m\u001b[0m\u001b[0m\n\u001b[1;32m      8\u001b[0m \u001b[0;34m\u001b[0m\u001b[0m\n\u001b[0;32m----> 9\u001b[0;31m \u001b[0mtrain_data_deep\u001b[0m \u001b[0;34m=\u001b[0m \u001b[0mtrain_data_deep\u001b[0m\u001b[0;34m.\u001b[0m\u001b[0mto_numpy\u001b[0m\u001b[0;34m(\u001b[0m\u001b[0;34m)\u001b[0m\u001b[0;34m\u001b[0m\u001b[0;34m\u001b[0m\u001b[0m\n\u001b[0m\u001b[1;32m     10\u001b[0m \u001b[0mtest_data_deep\u001b[0m  \u001b[0;34m=\u001b[0m \u001b[0mtest_data_deep\u001b[0m\u001b[0;34m.\u001b[0m\u001b[0mto_numpy\u001b[0m\u001b[0;34m(\u001b[0m\u001b[0;34m)\u001b[0m\u001b[0;34m\u001b[0m\u001b[0;34m\u001b[0m\u001b[0m\n",
      "\u001b[0;31mAttributeError\u001b[0m: 'NoneType' object has no attribute 'to_numpy'"
     ]
    }
   ],
   "source": [
    "from DeepNets.train import load_and_evaluate\n",
    "\n",
    "bid_path = \"./DeepNets/bid_CNN_2.pth\"\n",
    "ask_path = \"./DeepNets/ask_CNN_2.pth\"\n",
    "\n",
    "train_data_deep = load_and_evaluate([bid_path, ask_path], train_data_original)\n",
    "test_data_deep  = load_and_evaluate([bid_path, ask_path], test_data_original )\n",
    "\n",
    "train_data_deep = train_data_deep.to_numpy()\n",
    "test_data_deep  = test_data_deep.to_numpy()\n"
   ]
  },
  {
   "cell_type": "code",
   "execution_count": 38,
   "metadata": {},
   "outputs": [],
   "source": [
    "from sklearn.base import BaseEstimator, TransformerMixin, RegressorMixin, clone\n",
    "\n",
    "class stacking(BaseEstimator, RegressorMixin, TransformerMixin):\n",
    "    def __init__(self,mod,meta_model):\n",
    "        self.mod = mod\n",
    "        self.meta_model = meta_model\n",
    "        self.kf = KFold(n_splits=5, random_state=42, shuffle=True)\n",
    "\n",
    "    def fit(self,X,y, append = None):\n",
    "        self.saved_model = [list() for i in self.mod]\n",
    "        oof_train = np.zeros((X.shape[0], len(self.mod)))\n",
    "\n",
    "        for i,model in enumerate(self.mod):\n",
    "            print (\"training for \" + str(i) + \" out of \" + str(len(self.mod)))\n",
    "            for train_index, val_index in self.kf.split(X,y):\n",
    "                renew_model = clone(model)\n",
    "                renew_model.fit(X[train_index], y[train_index])\n",
    "                self.saved_model[i].append(renew_model)\n",
    "                if (type(model).__name__ == 'LinearSVC'):\n",
    "                    oof_train[val_index,i] = renew_model.predict(X[val_index])\n",
    "                else:\n",
    "                    oof_train[val_index,i] = renew_model.predict_proba(X[val_index])[:,1]\n",
    "        if (append):\n",
    "            oof_train = np.hstack([oof_train, append])\n",
    "        self.meta_model.fit(oof_train,y)\n",
    "        return self\n",
    "\n",
    "    def predict(self,X, append= None):\n",
    "        whole_test = np.column_stack([\n",
    "                np.column_stack(\n",
    "                    [model.predict_proba(X)[:,1] for model in single_model]\n",
    "                ).mean(axis=1) \n",
    "            if (type(single_model[0]).__name__ != 'LinearSVC')\n",
    "            else \n",
    "                np.column_stack(\n",
    "                    [model.predict(X) for model in single_model]\n",
    "                ).mean(axis=1) \n",
    "            for single_model in self.saved_model\n",
    "        ])\n",
    "        if (append):\n",
    "            whole_test = np.hstack([whole_test,append])\n",
    "        return self.meta_model.predict_proba(whole_test)[:,1]\n",
    "\n",
    "    def get_oof(self,X,y,test_X):\n",
    "        oof = np.zeros((X.shape[0],len(self.mod)))\n",
    "        test_single = np.zeros((test_X.shape[0],5))\n",
    "        test_mean = np.zeros((test_X.shape[0],len(self.mod)))\n",
    "        for i,model in enumerate(self.mod):\n",
    "            for j, (train_index,val_index) in enumerate(self.kf.split(X,y)):\n",
    "                clone_model = clone(model)\n",
    "                clone_model.fit(X[train_index],y[train_index])\n",
    "                oof[val_index,i] = clone_model.predict(X[val_index])\n",
    "                test_single[:,j] = clone_model.predict(test_X)\n",
    "            test_mean[:,i] = test_single.mean(axis=1)\n",
    "        return oof, test_mean"
   ]
  },
  {
   "cell_type": "code",
   "execution_count": 54,
   "metadata": {
    "collapsed": true
   },
   "outputs": [
    {
     "name": "stdout",
     "output_type": "stream",
     "text": [
      "training for 0 out of 8\n",
      "training for 1 out of 8\n",
      "training for 2 out of 8\n"
     ]
    },
    {
     "ename": "KeyboardInterrupt",
     "evalue": "",
     "output_type": "error",
     "traceback": [
      "\u001b[0;31m---------------------------------------------------------------------------\u001b[0m",
      "\u001b[0;31mKeyboardInterrupt\u001b[0m                         Traceback (most recent call last)",
      "\u001b[0;32m<ipython-input-54-3f832b09022b>\u001b[0m in \u001b[0;36m<module>\u001b[0;34m\u001b[0m\n\u001b[1;32m     13\u001b[0m \u001b[0mBase_model\u001b[0m \u001b[0;34m=\u001b[0m \u001b[0mLogitNet\u001b[0m\u001b[0;34m(\u001b[0m\u001b[0mscoring\u001b[0m\u001b[0;34m=\u001b[0m\u001b[0;34m\"f1_score\"\u001b[0m\u001b[0;34m)\u001b[0m\u001b[0;34m\u001b[0m\u001b[0;34m\u001b[0m\u001b[0m\n\u001b[1;32m     14\u001b[0m \u001b[0mmystack\u001b[0m \u001b[0;34m=\u001b[0m \u001b[0mstacking\u001b[0m\u001b[0;34m(\u001b[0m\u001b[0mbid_models_PCA\u001b[0m\u001b[0;34m,\u001b[0m \u001b[0mBase_model\u001b[0m \u001b[0;34m)\u001b[0m\u001b[0;34m\u001b[0m\u001b[0;34m\u001b[0m\u001b[0m\n\u001b[0;32m---> 15\u001b[0;31m \u001b[0mmystack\u001b[0m\u001b[0;34m.\u001b[0m\u001b[0mfit\u001b[0m\u001b[0;34m(\u001b[0m\u001b[0mX_pca\u001b[0m\u001b[0;34m,\u001b[0m \u001b[0my1\u001b[0m \u001b[0;34m>\u001b[0m \u001b[0;36m0\u001b[0m\u001b[0;34m)\u001b[0m\u001b[0;34m\u001b[0m\u001b[0;34m\u001b[0m\u001b[0m\n\u001b[0m",
      "\u001b[0;32m<ipython-input-38-5e9ae87ffc69>\u001b[0m in \u001b[0;36mfit\u001b[0;34m(self, X, y)\u001b[0m\n\u001b[1;32m     15\u001b[0m             \u001b[0;32mfor\u001b[0m \u001b[0mtrain_index\u001b[0m\u001b[0;34m,\u001b[0m \u001b[0mval_index\u001b[0m \u001b[0;32min\u001b[0m \u001b[0mself\u001b[0m\u001b[0;34m.\u001b[0m\u001b[0mkf\u001b[0m\u001b[0;34m.\u001b[0m\u001b[0msplit\u001b[0m\u001b[0;34m(\u001b[0m\u001b[0mX\u001b[0m\u001b[0;34m,\u001b[0m\u001b[0my\u001b[0m\u001b[0;34m)\u001b[0m\u001b[0;34m:\u001b[0m\u001b[0;34m\u001b[0m\u001b[0;34m\u001b[0m\u001b[0m\n\u001b[1;32m     16\u001b[0m                 \u001b[0mrenew_model\u001b[0m \u001b[0;34m=\u001b[0m \u001b[0mclone\u001b[0m\u001b[0;34m(\u001b[0m\u001b[0mmodel\u001b[0m\u001b[0;34m)\u001b[0m\u001b[0;34m\u001b[0m\u001b[0;34m\u001b[0m\u001b[0m\n\u001b[0;32m---> 17\u001b[0;31m                 \u001b[0mrenew_model\u001b[0m\u001b[0;34m.\u001b[0m\u001b[0mfit\u001b[0m\u001b[0;34m(\u001b[0m\u001b[0mX\u001b[0m\u001b[0;34m[\u001b[0m\u001b[0mtrain_index\u001b[0m\u001b[0;34m]\u001b[0m\u001b[0;34m,\u001b[0m \u001b[0my\u001b[0m\u001b[0;34m[\u001b[0m\u001b[0mtrain_index\u001b[0m\u001b[0;34m]\u001b[0m\u001b[0;34m)\u001b[0m\u001b[0;34m\u001b[0m\u001b[0;34m\u001b[0m\u001b[0m\n\u001b[0m\u001b[1;32m     18\u001b[0m                 \u001b[0mself\u001b[0m\u001b[0;34m.\u001b[0m\u001b[0msaved_model\u001b[0m\u001b[0;34m[\u001b[0m\u001b[0mi\u001b[0m\u001b[0;34m]\u001b[0m\u001b[0;34m.\u001b[0m\u001b[0mappend\u001b[0m\u001b[0;34m(\u001b[0m\u001b[0mrenew_model\u001b[0m\u001b[0;34m)\u001b[0m\u001b[0;34m\u001b[0m\u001b[0;34m\u001b[0m\u001b[0m\n\u001b[1;32m     19\u001b[0m                 \u001b[0;32mif\u001b[0m \u001b[0;34m(\u001b[0m\u001b[0mtype\u001b[0m\u001b[0;34m(\u001b[0m\u001b[0mmodel\u001b[0m\u001b[0;34m)\u001b[0m\u001b[0;34m.\u001b[0m\u001b[0m__name__\u001b[0m \u001b[0;34m==\u001b[0m \u001b[0;34m'LinearSVC'\u001b[0m\u001b[0;34m)\u001b[0m\u001b[0;34m:\u001b[0m\u001b[0;34m\u001b[0m\u001b[0;34m\u001b[0m\u001b[0m\n",
      "\u001b[0;32m~/Library/miniconda3/lib/python3.7/site-packages/sklearn/ensemble/gradient_boosting.py\u001b[0m in \u001b[0;36mfit\u001b[0;34m(self, X, y, sample_weight, monitor)\u001b[0m\n\u001b[1;32m   1544\u001b[0m         n_stages = self._fit_stages(\n\u001b[1;32m   1545\u001b[0m             \u001b[0mX\u001b[0m\u001b[0;34m,\u001b[0m \u001b[0my\u001b[0m\u001b[0;34m,\u001b[0m \u001b[0mraw_predictions\u001b[0m\u001b[0;34m,\u001b[0m \u001b[0msample_weight\u001b[0m\u001b[0;34m,\u001b[0m \u001b[0mself\u001b[0m\u001b[0;34m.\u001b[0m\u001b[0m_rng\u001b[0m\u001b[0;34m,\u001b[0m \u001b[0mX_val\u001b[0m\u001b[0;34m,\u001b[0m \u001b[0my_val\u001b[0m\u001b[0;34m,\u001b[0m\u001b[0;34m\u001b[0m\u001b[0;34m\u001b[0m\u001b[0m\n\u001b[0;32m-> 1546\u001b[0;31m             sample_weight_val, begin_at_stage, monitor, X_idx_sorted)\n\u001b[0m\u001b[1;32m   1547\u001b[0m \u001b[0;34m\u001b[0m\u001b[0m\n\u001b[1;32m   1548\u001b[0m         \u001b[0;31m# change shape of arrays after fit (early-stopping or additional ests)\u001b[0m\u001b[0;34m\u001b[0m\u001b[0;34m\u001b[0m\u001b[0;34m\u001b[0m\u001b[0m\n",
      "\u001b[0;32m~/Library/miniconda3/lib/python3.7/site-packages/sklearn/ensemble/gradient_boosting.py\u001b[0m in \u001b[0;36m_fit_stages\u001b[0;34m(self, X, y, raw_predictions, sample_weight, random_state, X_val, y_val, sample_weight_val, begin_at_stage, monitor, X_idx_sorted)\u001b[0m\n\u001b[1;32m   1608\u001b[0m             raw_predictions = self._fit_stage(\n\u001b[1;32m   1609\u001b[0m                 \u001b[0mi\u001b[0m\u001b[0;34m,\u001b[0m \u001b[0mX\u001b[0m\u001b[0;34m,\u001b[0m \u001b[0my\u001b[0m\u001b[0;34m,\u001b[0m \u001b[0mraw_predictions\u001b[0m\u001b[0;34m,\u001b[0m \u001b[0msample_weight\u001b[0m\u001b[0;34m,\u001b[0m \u001b[0msample_mask\u001b[0m\u001b[0;34m,\u001b[0m\u001b[0;34m\u001b[0m\u001b[0;34m\u001b[0m\u001b[0m\n\u001b[0;32m-> 1610\u001b[0;31m                 random_state, X_idx_sorted, X_csc, X_csr)\n\u001b[0m\u001b[1;32m   1611\u001b[0m \u001b[0;34m\u001b[0m\u001b[0m\n\u001b[1;32m   1612\u001b[0m             \u001b[0;31m# track deviance (= loss)\u001b[0m\u001b[0;34m\u001b[0m\u001b[0;34m\u001b[0m\u001b[0;34m\u001b[0m\u001b[0m\n",
      "\u001b[0;32m~/Library/miniconda3/lib/python3.7/site-packages/sklearn/ensemble/gradient_boosting.py\u001b[0m in \u001b[0;36m_fit_stage\u001b[0;34m(self, i, X, y, raw_predictions, sample_weight, sample_mask, random_state, X_idx_sorted, X_csc, X_csr)\u001b[0m\n\u001b[1;32m   1242\u001b[0m             \u001b[0mX\u001b[0m \u001b[0;34m=\u001b[0m \u001b[0mX_csr\u001b[0m \u001b[0;32mif\u001b[0m \u001b[0mX_csr\u001b[0m \u001b[0;32mis\u001b[0m \u001b[0;32mnot\u001b[0m \u001b[0;32mNone\u001b[0m \u001b[0;32melse\u001b[0m \u001b[0mX\u001b[0m\u001b[0;34m\u001b[0m\u001b[0;34m\u001b[0m\u001b[0m\n\u001b[1;32m   1243\u001b[0m             tree.fit(X, residual, sample_weight=sample_weight,\n\u001b[0;32m-> 1244\u001b[0;31m                      check_input=False, X_idx_sorted=X_idx_sorted)\n\u001b[0m\u001b[1;32m   1245\u001b[0m \u001b[0;34m\u001b[0m\u001b[0m\n\u001b[1;32m   1246\u001b[0m             \u001b[0;31m# update tree leaves\u001b[0m\u001b[0;34m\u001b[0m\u001b[0;34m\u001b[0m\u001b[0;34m\u001b[0m\u001b[0m\n",
      "\u001b[0;32m~/Library/miniconda3/lib/python3.7/site-packages/sklearn/tree/tree.py\u001b[0m in \u001b[0;36mfit\u001b[0;34m(self, X, y, sample_weight, check_input, X_idx_sorted)\u001b[0m\n\u001b[1;32m   1155\u001b[0m             \u001b[0msample_weight\u001b[0m\u001b[0;34m=\u001b[0m\u001b[0msample_weight\u001b[0m\u001b[0;34m,\u001b[0m\u001b[0;34m\u001b[0m\u001b[0;34m\u001b[0m\u001b[0m\n\u001b[1;32m   1156\u001b[0m             \u001b[0mcheck_input\u001b[0m\u001b[0;34m=\u001b[0m\u001b[0mcheck_input\u001b[0m\u001b[0;34m,\u001b[0m\u001b[0;34m\u001b[0m\u001b[0;34m\u001b[0m\u001b[0m\n\u001b[0;32m-> 1157\u001b[0;31m             X_idx_sorted=X_idx_sorted)\n\u001b[0m\u001b[1;32m   1158\u001b[0m         \u001b[0;32mreturn\u001b[0m \u001b[0mself\u001b[0m\u001b[0;34m\u001b[0m\u001b[0;34m\u001b[0m\u001b[0m\n\u001b[1;32m   1159\u001b[0m \u001b[0;34m\u001b[0m\u001b[0m\n",
      "\u001b[0;32m~/Library/miniconda3/lib/python3.7/site-packages/sklearn/tree/tree.py\u001b[0m in \u001b[0;36mfit\u001b[0;34m(self, X, y, sample_weight, check_input, X_idx_sorted)\u001b[0m\n\u001b[1;32m    378\u001b[0m                                            min_impurity_split)\n\u001b[1;32m    379\u001b[0m \u001b[0;34m\u001b[0m\u001b[0m\n\u001b[0;32m--> 380\u001b[0;31m         \u001b[0mbuilder\u001b[0m\u001b[0;34m.\u001b[0m\u001b[0mbuild\u001b[0m\u001b[0;34m(\u001b[0m\u001b[0mself\u001b[0m\u001b[0;34m.\u001b[0m\u001b[0mtree_\u001b[0m\u001b[0;34m,\u001b[0m \u001b[0mX\u001b[0m\u001b[0;34m,\u001b[0m \u001b[0my\u001b[0m\u001b[0;34m,\u001b[0m \u001b[0msample_weight\u001b[0m\u001b[0;34m,\u001b[0m \u001b[0mX_idx_sorted\u001b[0m\u001b[0;34m)\u001b[0m\u001b[0;34m\u001b[0m\u001b[0;34m\u001b[0m\u001b[0m\n\u001b[0m\u001b[1;32m    381\u001b[0m \u001b[0;34m\u001b[0m\u001b[0m\n\u001b[1;32m    382\u001b[0m         \u001b[0;32mif\u001b[0m \u001b[0mself\u001b[0m\u001b[0;34m.\u001b[0m\u001b[0mn_outputs_\u001b[0m \u001b[0;34m==\u001b[0m \u001b[0;36m1\u001b[0m\u001b[0;34m:\u001b[0m\u001b[0;34m\u001b[0m\u001b[0;34m\u001b[0m\u001b[0m\n",
      "\u001b[0;31mKeyboardInterrupt\u001b[0m: "
     ]
    }
   ],
   "source": [
    "bid_models_PCA = [\n",
    "    LogisticRegression(C = 0.1, solver = 'lbfgs'),\n",
    "    GradientBoostingClassifier(),\n",
    "    XGBClassifier(n_estimators=70),\n",
    "    LinearSVC(C = 0.01, max_iter = 5000),\n",
    "    AdaBoostClassifier(DecisionTreeClassifier(max_depth = 2), n_estimators=70),\n",
    "    QuadraticDiscriminantAnalysis(reg_param=0.001)\n",
    "]\n",
    "Base_model = LogisticRegression(C = 0.1, solver = 'lbfgs')\n",
    "bidstack = stacking(bid_models_PCA, Base_model )\n",
    "bidstack.fit(X_pca, y1 > 0)\n"
   ]
  },
  {
   "cell_type": "code",
   "execution_count": null,
   "metadata": {},
   "outputs": [],
   "source": [
    "ask_models_PCA = [\n",
    "    LogisticRegression(C = 1.0, solver = 'lbfgs'),\n",
    "    GradientBoostingClassifier(),\n",
    "    XGBClassifier(n_estimators=50),\n",
    "    LinearSVC(C = 0.1, max_iter = 5000),\n",
    "    AdaBoostClassifier(DecisionTreeClassifier(max_depth = 2), n_estimators=100),\n",
    "    QuadraticDiscriminantAnalysis(reg_param=0.001)\n",
    "]\n",
    "Base_model = LogisticRegression(C = 0.1, solver = 'lbfgs')\n",
    "bidstack = stacking(ask_models_PCA, Base_model )\n",
    "bidstack.fit(X_pca, y1 > 0)"
   ]
  },
  {
   "cell_type": "code",
   "execution_count": 40,
   "metadata": {},
   "outputs": [],
   "source": [
    "bid_pred = bid_stack.predict(X_pca)"
   ]
  },
  {
   "cell_type": "code",
   "execution_count": 23,
   "metadata": {},
   "outputs": [],
   "source": [
    "def plotROC(target, pred):\n",
    "    plt.show()\n",
    "    fpr1, tpr1, t1 = roc_curve(target, pred)\n",
    "    plt.plot(fpr1, tpr1)\n",
    "    plt.plot(fpr1,fpr1)\n",
    "    \n",
    "    plt.show()\n",
    "    AUC = auc(fpr1, tpr1)\n",
    "    print (\"AUC:\", AUC)\n",
    "    return AUC"
   ]
  },
  {
   "cell_type": "code",
   "execution_count": 41,
   "metadata": {},
   "outputs": [
    {
     "data": {
      "image/png": "[encoded data removed]",
      "text/plain": [
       "<Figure size 432x288 with 1 Axes>"
      ]
     },
     "metadata": {
      "needs_background": "light"
     },
     "output_type": "display_data"
    },
    {
     "name": "stdout",
     "output_type": "stream",
     "text": [
      "AUC: 0.8382676301669364\n"
     ]
    },
    {
     "data": {
      "text/plain": [
       "0.8382676301669364"
      ]
     },
     "execution_count": 41,
     "metadata": {},
     "output_type": "execute_result"
    }
   ],
   "source": [
    "plotROC(y1 >0, bid_pred)"
   ]
  },
  {
   "cell_type": "code",
   "execution_count": 53,
   "metadata": {},
   "outputs": [
    {
     "data": {
      "text/plain": [
       "0.8094804499196572"
      ]
     },
     "execution_count": 53,
     "metadata": {},
     "output_type": "execute_result"
    }
   ],
   "source": [
    "print(\n",
    "    \"Accuracy:\", np.mean((y1_test>0) == (bid_pred >0.5))\n",
    "    \"f1_score:\", f1_score(y1_test > 0.0, bid_pred > 0.5)\n",
    ")"
   ]
  },
  {
   "cell_type": "markdown",
   "metadata": {},
   "source": [
    "## Ask Model:"
   ]
  },
  {
   "cell_type": "code",
   "execution_count": null,
   "metadata": {},
   "outputs": [],
   "source": [
    "ask_models_PCA = [\n",
    "    LogisticRegression(C = 0.1, solver = 'lbfgs'),\n",
    "    KNeighborsClassifier(n_neighbors = 10, algorithm = \"kd_tree\"),\n",
    "    GradientBoostingClassifier(),\n",
    "    XGBClassifier(n_estimators=20),\n",
    "    ExtraTreesClassifier(n_estimators = 50),\n",
    "    LinearSVC(C = 0.025, max_iter = 5000),\n",
    "    DecisionTreeClassifier(max_depth = 6),\n",
    "    RandomForestClassifier(max_depth = 4, n_estimators = 10),\n",
    "    AdaBoostClassifier(DecisionTreeClassifier(max_depth = 2) ),\n",
    "    GaussianNB(),\n",
    "    QuadraticDiscriminantAnalysis(reg_param=0.01)\n",
    "]\n",
    "\n",
    "ask_models_names = [\n",
    "    \"Logit\",\n",
    "    \"KNN\",\n",
    "    \"GBoost\",\n",
    "    \"xgboost\",\n",
    "    \"ExTree\",\n",
    "    \"linear_SVC\",\n",
    "    \"DTree\",\n",
    "    \"Forest\",\n",
    "    \"AdaBoost\",\n",
    "    \"NaiveBayes\",\n",
    "    \"QDA\"\n",
    "]"
   ]
  },
  {
   "cell_type": "code",
   "execution_count": null,
   "metadata": {},
   "outputs": [],
   "source": [
    "for name, model in zip(ask_models_names, ask_models_PCA):\n",
    "    score = class_cv(model, X_pca, y1>0)\n",
    "    auc_score = class_cv(model, X_pca, y1>0, \"roc_auc\")\n",
    "    print(\"{}: {:.6f}, {:.4f}, {:.6f}\".format(name,score.mean(),score.std(), auc_score.mean() ))"
   ]
  },
  {
   "cell_type": "code",
   "execution_count": null,
   "metadata": {},
   "outputs": [],
   "source": [
    "print(\"Logit\")\n",
    "param_grid={'C':[10.0,1.0,0.1,0.01], \"l1_ratio\":[0.5, 0.0]}\n",
    "grid(LogisticRegression(penalty = \"elasticnet\", solver=\"saga\", max_iter=1000)).grid_get(X_pca,y1>0,param_grid)\n",
    "\n",
    "\n",
    "print(\"KNN\")\n",
    "param_grid={'n_neighbors':[2, 4, 6, 10, 15]}\n",
    "grid(KNeighborsClassifier(algorithm = \"kd_tree\")).grid_get(X_pca,y1>0,param_grid)\n",
    "\n",
    "\n",
    "print (\"XGBClassifier\")\n",
    "param_grid={'n_estimators':[10, 20, 50, 100]}\n",
    "grid(XGBClassifier()).grid_get(X_pca,y1>0,param_grid)\n",
    "\n",
    "\n",
    "print (\"EXTree\")\n",
    "param_grid={'n_estimators':[10, 20, 50, 100]}\n",
    "grid(ExtraTreesClassifier()).grid_get(X_pca,y1>0,param_grid)\n",
    "\n",
    "\n",
    "print(\"LinearSVC\")\n",
    "param_grid={'C':[10.0,1.0,0.1,0.01]}\n",
    "grid(LinearSVC()).grid_get(X_pca,y1>0,param_grid)\n",
    "\n",
    "\n",
    "print(\"Forest\")\n",
    "param_grid={'max_depth':[1,2,4,8], \"n_estimators\": [5, 10, 20] }\n",
    "grid(RandomForestClassifier()).grid_get(X_pca,y1>0,param_grid)\n",
    "\n",
    "\n",
    "print(\"AdaBoost\")\n",
    "param_grid={'max_depth':[1,2,4,8] }\n",
    "AdaBoostClassifier(DecisionTreeClassifier(max_depth = 2) )\n"
   ]
  },
  {
   "cell_type": "code",
   "execution_count": 5,
   "metadata": {},
   "outputs": [
    {
     "data": {
      "text/html": [
       "<div>\n",
       "<style scoped>\n",
       "    .dataframe tbody tr th:only-of-type {\n",
       "        vertical-align: middle;\n",
       "    }\n",
       "\n",
       "    .dataframe tbody tr th {\n",
       "        vertical-align: top;\n",
       "    }\n",
       "\n",
       "    .dataframe thead th {\n",
       "        text-align: right;\n",
       "    }\n",
       "</style>\n",
       "<table border=\"1\" class=\"dataframe\">\n",
       "  <thead>\n",
       "    <tr style=\"text-align: right;\">\n",
       "      <th></th>\n",
       "      <th>Last Px</th>\n",
       "      <th>Turnover</th>\n",
       "      <th>Volume</th>\n",
       "      <th>Bid Px</th>\n",
       "      <th>Bid Vol</th>\n",
       "      <th>Ask Px</th>\n",
       "      <th>Ask Vol</th>\n",
       "      <th>Bid Arrival</th>\n",
       "      <th>Ask Arrival</th>\n",
       "      <th>Bid Retreat</th>\n",
       "      <th>...</th>\n",
       "      <th>diff Bid Px</th>\n",
       "      <th>diff Ask Px</th>\n",
       "      <th>log mean return</th>\n",
       "      <th>imbalance</th>\n",
       "      <th>Px gap</th>\n",
       "      <th>Bid active</th>\n",
       "      <th>Ask active</th>\n",
       "      <th>volatile</th>\n",
       "      <th>Last Px - Median Px</th>\n",
       "      <th>Time from Open</th>\n",
       "    </tr>\n",
       "    <tr>\n",
       "      <th>Time</th>\n",
       "      <th></th>\n",
       "      <th></th>\n",
       "      <th></th>\n",
       "      <th></th>\n",
       "      <th></th>\n",
       "      <th></th>\n",
       "      <th></th>\n",
       "      <th></th>\n",
       "      <th></th>\n",
       "      <th></th>\n",
       "      <th></th>\n",
       "      <th></th>\n",
       "      <th></th>\n",
       "      <th></th>\n",
       "      <th></th>\n",
       "      <th></th>\n",
       "      <th></th>\n",
       "      <th></th>\n",
       "      <th></th>\n",
       "      <th></th>\n",
       "      <th></th>\n",
       "    </tr>\n",
       "  </thead>\n",
       "  <tbody>\n",
       "    <tr>\n",
       "      <th>2017-05-24 07:02:58.200</th>\n",
       "      <td>17010</td>\n",
       "      <td>0</td>\n",
       "      <td>0</td>\n",
       "      <td>NaN</td>\n",
       "      <td>0</td>\n",
       "      <td>NaN</td>\n",
       "      <td>0</td>\n",
       "      <td>0.0</td>\n",
       "      <td>0.0</td>\n",
       "      <td>0.0</td>\n",
       "      <td>...</td>\n",
       "      <td>NaN</td>\n",
       "      <td>NaN</td>\n",
       "      <td>NaN</td>\n",
       "      <td>0</td>\n",
       "      <td>NaN</td>\n",
       "      <td>0.000000</td>\n",
       "      <td>0.000000</td>\n",
       "      <td>NaN</td>\n",
       "      <td>NaN</td>\n",
       "      <td>25378</td>\n",
       "    </tr>\n",
       "    <tr>\n",
       "      <th>2017-05-24 09:29:00.200</th>\n",
       "      <td>16996</td>\n",
       "      <td>781816</td>\n",
       "      <td>46</td>\n",
       "      <td>16996.0</td>\n",
       "      <td>2</td>\n",
       "      <td>16997.0</td>\n",
       "      <td>3</td>\n",
       "      <td>33.0</td>\n",
       "      <td>35.0</td>\n",
       "      <td>0.0</td>\n",
       "      <td>...</td>\n",
       "      <td>-5.0</td>\n",
       "      <td>-2.0</td>\n",
       "      <td>-0.000206</td>\n",
       "      <td>-1</td>\n",
       "      <td>0.000059</td>\n",
       "      <td>10.121908</td>\n",
       "      <td>11.878092</td>\n",
       "      <td>NaN</td>\n",
       "      <td>-0.5</td>\n",
       "      <td>34140</td>\n",
       "    </tr>\n",
       "    <tr>\n",
       "      <th>2017-05-24 09:30:00.200</th>\n",
       "      <td>16994</td>\n",
       "      <td>917772</td>\n",
       "      <td>54</td>\n",
       "      <td>16991.0</td>\n",
       "      <td>1</td>\n",
       "      <td>16995.0</td>\n",
       "      <td>9</td>\n",
       "      <td>9.0</td>\n",
       "      <td>16.0</td>\n",
       "      <td>1.0</td>\n",
       "      <td>...</td>\n",
       "      <td>-3.0</td>\n",
       "      <td>-1.0</td>\n",
       "      <td>-0.000118</td>\n",
       "      <td>-8</td>\n",
       "      <td>0.000235</td>\n",
       "      <td>0.000000</td>\n",
       "      <td>15.000000</td>\n",
       "      <td>NaN</td>\n",
       "      <td>1.0</td>\n",
       "      <td>34200</td>\n",
       "    </tr>\n",
       "    <tr>\n",
       "      <th>2017-05-24 09:30:00.700</th>\n",
       "      <td>16995</td>\n",
       "      <td>1121690</td>\n",
       "      <td>66</td>\n",
       "      <td>16988.0</td>\n",
       "      <td>1</td>\n",
       "      <td>16994.0</td>\n",
       "      <td>1</td>\n",
       "      <td>8.0</td>\n",
       "      <td>8.0</td>\n",
       "      <td>3.0</td>\n",
       "      <td>...</td>\n",
       "      <td>-4.0</td>\n",
       "      <td>-6.0</td>\n",
       "      <td>-0.000294</td>\n",
       "      <td>0</td>\n",
       "      <td>0.000353</td>\n",
       "      <td>-0.500000</td>\n",
       "      <td>1.500000</td>\n",
       "      <td>NaN</td>\n",
       "      <td>4.0</td>\n",
       "      <td>34200</td>\n",
       "    </tr>\n",
       "    <tr>\n",
       "      <th>2017-05-24 09:30:01.200</th>\n",
       "      <td>16985</td>\n",
       "      <td>1240602</td>\n",
       "      <td>73</td>\n",
       "      <td>16984.0</td>\n",
       "      <td>1</td>\n",
       "      <td>16988.0</td>\n",
       "      <td>10</td>\n",
       "      <td>13.0</td>\n",
       "      <td>21.0</td>\n",
       "      <td>3.0</td>\n",
       "      <td>...</td>\n",
       "      <td>-2.0</td>\n",
       "      <td>-4.0</td>\n",
       "      <td>-0.000177</td>\n",
       "      <td>-9</td>\n",
       "      <td>0.000235</td>\n",
       "      <td>3.000000</td>\n",
       "      <td>20.000000</td>\n",
       "      <td>NaN</td>\n",
       "      <td>-1.0</td>\n",
       "      <td>34201</td>\n",
       "    </tr>\n",
       "    <tr>\n",
       "      <th>...</th>\n",
       "      <td>...</td>\n",
       "      <td>...</td>\n",
       "      <td>...</td>\n",
       "      <td>...</td>\n",
       "      <td>...</td>\n",
       "      <td>...</td>\n",
       "      <td>...</td>\n",
       "      <td>...</td>\n",
       "      <td>...</td>\n",
       "      <td>...</td>\n",
       "      <td>...</td>\n",
       "      <td>...</td>\n",
       "      <td>...</td>\n",
       "      <td>...</td>\n",
       "      <td>...</td>\n",
       "      <td>...</td>\n",
       "      <td>...</td>\n",
       "      <td>...</td>\n",
       "      <td>...</td>\n",
       "      <td>...</td>\n",
       "      <td>...</td>\n",
       "    </tr>\n",
       "    <tr>\n",
       "      <th>2017-05-31 14:59:59.300</th>\n",
       "      <td>17410</td>\n",
       "      <td>248356774</td>\n",
       "      <td>14231</td>\n",
       "      <td>17409.0</td>\n",
       "      <td>2</td>\n",
       "      <td>17411.0</td>\n",
       "      <td>11</td>\n",
       "      <td>0.0</td>\n",
       "      <td>1.0</td>\n",
       "      <td>5.0</td>\n",
       "      <td>...</td>\n",
       "      <td>0.0</td>\n",
       "      <td>-1.0</td>\n",
       "      <td>-0.000029</td>\n",
       "      <td>-9</td>\n",
       "      <td>0.000115</td>\n",
       "      <td>-6.000000</td>\n",
       "      <td>1.000000</td>\n",
       "      <td>0.000033</td>\n",
       "      <td>0.0</td>\n",
       "      <td>53999</td>\n",
       "    </tr>\n",
       "    <tr>\n",
       "      <th>2017-05-31 15:00:00.300</th>\n",
       "      <td>17410</td>\n",
       "      <td>248356774</td>\n",
       "      <td>14231</td>\n",
       "      <td>17409.0</td>\n",
       "      <td>2</td>\n",
       "      <td>17410.0</td>\n",
       "      <td>1</td>\n",
       "      <td>0.0</td>\n",
       "      <td>1.0</td>\n",
       "      <td>0.0</td>\n",
       "      <td>...</td>\n",
       "      <td>0.0</td>\n",
       "      <td>0.0</td>\n",
       "      <td>0.000000</td>\n",
       "      <td>1</td>\n",
       "      <td>0.000057</td>\n",
       "      <td>0.000000</td>\n",
       "      <td>0.000000</td>\n",
       "      <td>0.000033</td>\n",
       "      <td>0.5</td>\n",
       "      <td>54000</td>\n",
       "    </tr>\n",
       "    <tr>\n",
       "      <th>2017-05-31 15:21:34.800</th>\n",
       "      <td>17410</td>\n",
       "      <td>248356774</td>\n",
       "      <td>14231</td>\n",
       "      <td>17409.0</td>\n",
       "      <td>2</td>\n",
       "      <td>17410.0</td>\n",
       "      <td>1</td>\n",
       "      <td>0.0</td>\n",
       "      <td>0.0</td>\n",
       "      <td>0.0</td>\n",
       "      <td>...</td>\n",
       "      <td>0.0</td>\n",
       "      <td>0.0</td>\n",
       "      <td>0.000000</td>\n",
       "      <td>1</td>\n",
       "      <td>0.000057</td>\n",
       "      <td>0.000000</td>\n",
       "      <td>0.000000</td>\n",
       "      <td>0.000033</td>\n",
       "      <td>0.5</td>\n",
       "      <td>55294</td>\n",
       "    </tr>\n",
       "    <tr>\n",
       "      <th>2017-05-31 15:26:24.300</th>\n",
       "      <td>17410</td>\n",
       "      <td>248356774</td>\n",
       "      <td>14231</td>\n",
       "      <td>17409.0</td>\n",
       "      <td>2</td>\n",
       "      <td>17410.0</td>\n",
       "      <td>1</td>\n",
       "      <td>0.0</td>\n",
       "      <td>0.0</td>\n",
       "      <td>0.0</td>\n",
       "      <td>...</td>\n",
       "      <td>0.0</td>\n",
       "      <td>0.0</td>\n",
       "      <td>0.000000</td>\n",
       "      <td>1</td>\n",
       "      <td>0.000057</td>\n",
       "      <td>0.000000</td>\n",
       "      <td>0.000000</td>\n",
       "      <td>0.000033</td>\n",
       "      <td>0.5</td>\n",
       "      <td>55584</td>\n",
       "    </tr>\n",
       "    <tr>\n",
       "      <th>2017-05-31 15:33:31.300</th>\n",
       "      <td>17410</td>\n",
       "      <td>248356774</td>\n",
       "      <td>14231</td>\n",
       "      <td>17409.0</td>\n",
       "      <td>2</td>\n",
       "      <td>17410.0</td>\n",
       "      <td>1</td>\n",
       "      <td>0.0</td>\n",
       "      <td>0.0</td>\n",
       "      <td>0.0</td>\n",
       "      <td>...</td>\n",
       "      <td>NaN</td>\n",
       "      <td>NaN</td>\n",
       "      <td>0.000000</td>\n",
       "      <td>1</td>\n",
       "      <td>0.000057</td>\n",
       "      <td>0.000000</td>\n",
       "      <td>0.000000</td>\n",
       "      <td>0.000033</td>\n",
       "      <td>0.5</td>\n",
       "      <td>56011</td>\n",
       "    </tr>\n",
       "  </tbody>\n",
       "</table>\n",
       "<p>78521 rows × 31 columns</p>\n",
       "</div>"
      ],
      "text/plain": [
       "                         Last Px   Turnover  Volume   Bid Px  Bid Vol  \\\n",
       "Time                                                                    \n",
       "2017-05-24 07:02:58.200    17010          0       0      NaN        0   \n",
       "2017-05-24 09:29:00.200    16996     781816      46  16996.0        2   \n",
       "2017-05-24 09:30:00.200    16994     917772      54  16991.0        1   \n",
       "2017-05-24 09:30:00.700    16995    1121690      66  16988.0        1   \n",
       "2017-05-24 09:30:01.200    16985    1240602      73  16984.0        1   \n",
       "...                          ...        ...     ...      ...      ...   \n",
       "2017-05-31 14:59:59.300    17410  248356774   14231  17409.0        2   \n",
       "2017-05-31 15:00:00.300    17410  248356774   14231  17409.0        2   \n",
       "2017-05-31 15:21:34.800    17410  248356774   14231  17409.0        2   \n",
       "2017-05-31 15:26:24.300    17410  248356774   14231  17409.0        2   \n",
       "2017-05-31 15:33:31.300    17410  248356774   14231  17409.0        2   \n",
       "\n",
       "                          Ask Px  Ask Vol  Bid Arrival  Ask Arrival  \\\n",
       "Time                                                                  \n",
       "2017-05-24 07:02:58.200      NaN        0          0.0          0.0   \n",
       "2017-05-24 09:29:00.200  16997.0        3         33.0         35.0   \n",
       "2017-05-24 09:30:00.200  16995.0        9          9.0         16.0   \n",
       "2017-05-24 09:30:00.700  16994.0        1          8.0          8.0   \n",
       "2017-05-24 09:30:01.200  16988.0       10         13.0         21.0   \n",
       "...                          ...      ...          ...          ...   \n",
       "2017-05-31 14:59:59.300  17411.0       11          0.0          1.0   \n",
       "2017-05-31 15:00:00.300  17410.0        1          0.0          1.0   \n",
       "2017-05-31 15:21:34.800  17410.0        1          0.0          0.0   \n",
       "2017-05-31 15:26:24.300  17410.0        1          0.0          0.0   \n",
       "2017-05-31 15:33:31.300  17410.0        1          0.0          0.0   \n",
       "\n",
       "                         Bid Retreat  ...  diff Bid Px  diff Ask Px  \\\n",
       "Time                                  ...                             \n",
       "2017-05-24 07:02:58.200          0.0  ...          NaN          NaN   \n",
       "2017-05-24 09:29:00.200          0.0  ...         -5.0         -2.0   \n",
       "2017-05-24 09:30:00.200          1.0  ...         -3.0         -1.0   \n",
       "2017-05-24 09:30:00.700          3.0  ...         -4.0         -6.0   \n",
       "2017-05-24 09:30:01.200          3.0  ...         -2.0         -4.0   \n",
       "...                              ...  ...          ...          ...   \n",
       "2017-05-31 14:59:59.300          5.0  ...          0.0         -1.0   \n",
       "2017-05-31 15:00:00.300          0.0  ...          0.0          0.0   \n",
       "2017-05-31 15:21:34.800          0.0  ...          0.0          0.0   \n",
       "2017-05-31 15:26:24.300          0.0  ...          0.0          0.0   \n",
       "2017-05-31 15:33:31.300          0.0  ...          NaN          NaN   \n",
       "\n",
       "                         log mean return  imbalance    Px gap  Bid active  \\\n",
       "Time                                                                        \n",
       "2017-05-24 07:02:58.200              NaN          0       NaN    0.000000   \n",
       "2017-05-24 09:29:00.200        -0.000206         -1  0.000059   10.121908   \n",
       "2017-05-24 09:30:00.200        -0.000118         -8  0.000235    0.000000   \n",
       "2017-05-24 09:30:00.700        -0.000294          0  0.000353   -0.500000   \n",
       "2017-05-24 09:30:01.200        -0.000177         -9  0.000235    3.000000   \n",
       "...                                  ...        ...       ...         ...   \n",
       "2017-05-31 14:59:59.300        -0.000029         -9  0.000115   -6.000000   \n",
       "2017-05-31 15:00:00.300         0.000000          1  0.000057    0.000000   \n",
       "2017-05-31 15:21:34.800         0.000000          1  0.000057    0.000000   \n",
       "2017-05-31 15:26:24.300         0.000000          1  0.000057    0.000000   \n",
       "2017-05-31 15:33:31.300         0.000000          1  0.000057    0.000000   \n",
       "\n",
       "                         Ask active  volatile  Last Px - Median Px  \\\n",
       "Time                                                                 \n",
       "2017-05-24 07:02:58.200    0.000000       NaN                  NaN   \n",
       "2017-05-24 09:29:00.200   11.878092       NaN                 -0.5   \n",
       "2017-05-24 09:30:00.200   15.000000       NaN                  1.0   \n",
       "2017-05-24 09:30:00.700    1.500000       NaN                  4.0   \n",
       "2017-05-24 09:30:01.200   20.000000       NaN                 -1.0   \n",
       "...                             ...       ...                  ...   \n",
       "2017-05-31 14:59:59.300    1.000000  0.000033                  0.0   \n",
       "2017-05-31 15:00:00.300    0.000000  0.000033                  0.5   \n",
       "2017-05-31 15:21:34.800    0.000000  0.000033                  0.5   \n",
       "2017-05-31 15:26:24.300    0.000000  0.000033                  0.5   \n",
       "2017-05-31 15:33:31.300    0.000000  0.000033                  0.5   \n",
       "\n",
       "                         Time from Open  \n",
       "Time                                     \n",
       "2017-05-24 07:02:58.200           25378  \n",
       "2017-05-24 09:29:00.200           34140  \n",
       "2017-05-24 09:30:00.200           34200  \n",
       "2017-05-24 09:30:00.700           34200  \n",
       "2017-05-24 09:30:01.200           34201  \n",
       "...                                 ...  \n",
       "2017-05-31 14:59:59.300           53999  \n",
       "2017-05-31 15:00:00.300           54000  \n",
       "2017-05-31 15:21:34.800           55294  \n",
       "2017-05-31 15:26:24.300           55584  \n",
       "2017-05-31 15:33:31.300           56011  \n",
       "\n",
       "[78521 rows x 31 columns]"
      ]
     },
     "execution_count": 5,
     "metadata": {},
     "output_type": "execute_result"
    }
   ],
   "source": [
    "train_data"
   ]
  },
  {
   "cell_type": "code",
   "execution_count": 6,
   "metadata": {},
   "outputs": [
    {
     "data": {
      "text/plain": [
       "{Timestamp('2017-05-24 00:00:00'),\n",
       " Timestamp('2017-05-25 00:00:00'),\n",
       " Timestamp('2017-05-26 00:00:00'),\n",
       " Timestamp('2017-05-31 00:00:00'),\n",
       " Timestamp('2017-06-01 00:00:00')}"
      ]
     },
     "execution_count": 6,
     "metadata": {},
     "output_type": "execute_result"
    }
   ],
   "source": [
    "set(data.index.floor(\"D\"))"
   ]
  },
  {
   "cell_type": "code",
   "execution_count": 34,
   "metadata": {},
   "outputs": [
    {
     "ename": "ImportError",
     "evalue": "attempted relative import with no known parent package",
     "output_type": "error",
     "traceback": [
      "\u001b[0;31m---------------------------------------------------------------------------\u001b[0m",
      "\u001b[0;31mImportError\u001b[0m                               Traceback (most recent call last)",
      "\u001b[0;32m<ipython-input-34-6d504a7ec4b6>\u001b[0m in \u001b[0;36m<module>\u001b[0;34m\u001b[0m\n\u001b[0;32m----> 1\u001b[0;31m \u001b[0;32mfrom\u001b[0m \u001b[0;34m.\u001b[0m\u001b[0mDeepNets\u001b[0m\u001b[0;34m.\u001b[0m\u001b[0mArchitechtures\u001b[0m \u001b[0;32mimport\u001b[0m \u001b[0mOrderArrival_Dataset\u001b[0m \u001b[0;32mas\u001b[0m \u001b[0mOrderData\u001b[0m\u001b[0;34m\u001b[0m\u001b[0;34m\u001b[0m\u001b[0m\n\u001b[0m\u001b[1;32m      2\u001b[0m \u001b[0mOrderData\u001b[0m\u001b[0;34m(\u001b[0m\u001b[0mtrain_data_original\u001b[0m\u001b[0;34m)\u001b[0m\u001b[0;34m\u001b[0m\u001b[0;34m\u001b[0m\u001b[0m\n",
      "\u001b[0;31mImportError\u001b[0m: attempted relative import with no known parent package"
     ]
    }
   ],
   "source": [
    "from DeepNets.train import load_and_evaluate\n",
    "\n",
    "from .DeepNets.Architechtures import OrderArrival_Dataset as OrderData\n",
    "OrderData(train_data_original)"
   ]
  },
  {
   "cell_type": "code",
   "execution_count": null,
   "metadata": {},
   "outputs": [],
   "source": []
  }
 ],
 "metadata": {
  "kernelspec": {
   "display_name": "Python 3",
   "language": "python",
   "name": "python3"
  },
  "language_info": {
   "codemirror_mode": {
    "name": "ipython",
    "version": 3
   },
   "file_extension": ".py",
   "mimetype": "text/x-python",
   "name": "python",
   "nbconvert_exporter": "python",
   "pygments_lexer": "ipython3",
   "version": "3.7.6"
  }
 },
 "nbformat": 4,
 "nbformat_minor": 4
}
